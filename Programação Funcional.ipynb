{
 "cells": [
  {
   "cell_type": "markdown",
   "metadata": {},
   "source": [
    "## First Class Functions"
   ]
  },
  {
   "cell_type": "raw",
   "metadata": {},
   "source": [
    "Função Zip: combina duas listas de elementos em um objeto Zip, que por sua vez pode ser convertido para lista, tupla ou dicionário"
   ]
  },
  {
   "cell_type": "code",
   "execution_count": 8,
   "metadata": {},
   "outputs": [
    {
     "name": "stdout",
     "output_type": "stream",
     "text": [
      "<zip object at 0x7fca7c255200>\n",
      "(('Guilherme', 'Rocha'), ('Gabirl', 'Alves'), ('Iara', 'Santos'), ('Daniel', 'Oliveira'))\n",
      "[]\n",
      "{'Guilherme': 'Rocha', 'Gabirl': 'Alves', 'Iara': 'Santos', 'Daniel': 'Oliveira'}\n"
     ]
    }
   ],
   "source": [
    "nomes = [\"Guilherme\", \"Gabirl\", \"Iara\", \"Daniel\"]\n",
    "sobrenomes = [\"Rocha\", \"Alves\", \"Santos\", \"Oliveira\"]\n",
    "nomes_completos = zip(nomes, sobrenomes)\n",
    "\n",
    "print(nomes_completos)\n",
    "\n",
    "print(tuple(nomes_completos))\n",
    "\n",
    "# A cada utilização do zip, ele é consumido e fica vazio\n",
    "print(list(nomes_completos))\n",
    "\n",
    "nomes_completos = zip(nomes, sobrenomes)\n",
    "print(dict(nomes_completos))"
   ]
  },
  {
   "cell_type": "code",
   "execution_count": 10,
   "metadata": {},
   "outputs": [
    {
     "name": "stdout",
     "output_type": "stream",
     "text": [
      "[<function dobro at 0x7fca7c23e3a0>, <function quadrado at 0x7fca7c23ef70>, <function dobro at 0x7fca7c23e3a0>, <function quadrado at 0x7fca7c23ef70>, <function dobro at 0x7fca7c23e3a0>, <function quadrado at 0x7fca7c23ef70>, <function dobro at 0x7fca7c23e3a0>, <function quadrado at 0x7fca7c23ef70>, <function dobro at 0x7fca7c23e3a0>, <function quadrado at 0x7fca7c23ef70>]\n",
      "O dobro de 1 é 2\n",
      "O quadrado de 2 é 4\n",
      "O dobro de 3 é 6\n",
      "O quadrado de 4 é 16\n",
      "O dobro de 5 é 10\n",
      "O quadrado de 6 é 36\n",
      "O dobro de 7 é 14\n",
      "O quadrado de 8 é 64\n",
      "O dobro de 9 é 18\n",
      "O quadrado de 10 é 100\n"
     ]
    }
   ],
   "source": [
    "def dobro(x):\n",
    "    return x * 2\n",
    "\n",
    "def quadrado(x):\n",
    "    return x ** 2\n",
    "\n",
    "if __name__ == \"__main__\":\n",
    "    # Multiplica por 5 o número de itens da lista, tornando-a com 1- elementos\n",
    "    funcs = [dobro, quadrado] * 5\n",
    "    \n",
    "    # Toda função é um objeto da classe Function, logo essa lista aí terá elementos dos tipo Function\n",
    "    print(funcs)\n",
    "    \n",
    "    # Combina cada func (com os elementos dobro e quadrado) com 1, 2, 3 ... até 10\n",
    "    for func, numero in zip(funcs, range(1, 11)):\n",
    "        # Cada objeto do tipo Função possui um atributo chamado __name__ e um método chamado __call__()\n",
    "        print(f\"O {func.__name__} de {numero} é {func(numero)}\")"
   ]
  },
  {
   "cell_type": "markdown",
   "metadata": {},
   "source": [
    "## High Order Functions"
   ]
  },
  {
   "cell_type": "code",
   "execution_count": 13,
   "metadata": {},
   "outputs": [
    {
     "name": "stdout",
     "output_type": "stream",
     "text": [
      "Processando: Dobros de 1 a 10\n",
      "1 => 2\n",
      "2 => 4\n",
      "3 => 6\n",
      "4 => 8\n",
      "5 => 10\n",
      "6 => 12\n",
      "7 => 14\n",
      "8 => 16\n",
      "9 => 18\n",
      "10 => 20\n",
      "Processando: Quadrados de 1 a 10\n",
      "1 => 1\n",
      "2 => 4\n",
      "3 => 9\n",
      "4 => 16\n",
      "5 => 25\n",
      "6 => 36\n",
      "7 => 49\n",
      "8 => 64\n",
      "9 => 81\n",
      "10 => 100\n"
     ]
    }
   ],
   "source": [
    "def process(titulo, lista, funcao):\n",
    "    print(f\"Processando: {titulo}\")\n",
    "    for i in lista:\n",
    "        print(i, '=>', funcao(i))\n",
    "        \n",
    "if __name__ == \"__main__\":\n",
    "    # Passando objetos do tipo Função como parâmetro\n",
    "    process(\"Dobros de 1 a 10\", range(1, 11), dobro)\n",
    "    process(\"Quadrados de 1 a 10\", range(1, 11), quadrado)"
   ]
  },
  {
   "cell_type": "markdown",
   "metadata": {},
   "source": [
    "## Clousure"
   ]
  },
  {
   "cell_type": "raw",
   "metadata": {},
   "source": [
    "Funções com escopos aninhados"
   ]
  },
  {
   "cell_type": "code",
   "execution_count": 19,
   "metadata": {},
   "outputs": [
    {
     "name": "stdout",
     "output_type": "stream",
     "text": [
      "<function multiplier.<locals>.calc at 0x7fca7c23ee50>\n",
      "<function multiplier.<locals>.calc at 0x7fca7c227ca0>\n",
      "O triplo de 3 é 9\n",
      "O dobro de 7 é 14\n"
     ]
    }
   ],
   "source": [
    "# O times só será lido quando a função for instanciada\n",
    "def multiplier(times):\n",
    "    # A partir do momento em que a função é instanciada, o valor passado por parâmetro será usado para a função calc\n",
    "    def calc(x):\n",
    "        # A função de clousure, que é a calc, consegue ler o valor armazenado em times\n",
    "        return x * times\n",
    "    return calc\n",
    "\n",
    "if __name__ == \"__main__\":\n",
    "    dobro = multiplier(2)\n",
    "    triplo = multiplier(3)\n",
    "    \n",
    "    # Nesse momento, o valor times já foi definido é não é possível alterá-lo, só se instanciar outro objeto de multiplier\n",
    "    print(dobro)\n",
    "    print(triplo)\n",
    "    \n",
    "    # Passando os valores 3 e 7 para a função calc\n",
    "    print(f\"O triplo de 3 é {triplo(3)}\")\n",
    "    print(f\"O dobro de 7 é {dobro(7)}\")"
   ]
  },
  {
   "cell_type": "markdown",
   "metadata": {},
   "source": [
    "## Anonymous Functions (lambda)"
   ]
  },
  {
   "cell_type": "raw",
   "metadata": {},
   "source": [
    "Função map: cria uma nova lista de acordo com uma função e um iterator passados como parâmetro"
   ]
  },
  {
   "cell_type": "code",
   "execution_count": 38,
   "metadata": {},
   "outputs": [
    {
     "name": "stdout",
     "output_type": "stream",
     "text": [
      "Resultado usando o For:\n",
      "[2, 6, 10]\n",
      "Resultado usando o Map:\n",
      "[2, 6, 10]\n"
     ]
    }
   ],
   "source": [
    "a1 = [1, 3, 5]\n",
    "\n",
    "# Usando um for para exemplo\n",
    "a2 = []\n",
    "for i in a1:\n",
    "    a2.append(i * 2)\n",
    "    \n",
    "print(\"Resultado usando o For:\")\n",
    "print(a2)\n",
    "\n",
    "def dobro(num):\n",
    "    return num * 2\n",
    "\n",
    "# Usando o map\n",
    "a3 = map(\n",
    "    dobro,\n",
    "    a1\n",
    ")\n",
    "\n",
    "# Objeto do tipo Map\n",
    "# print(a3)\n",
    "\n",
    "print(\"Resultado usando o Map:\")\n",
    "print(list(a3))"
   ]
  },
  {
   "cell_type": "code",
   "execution_count": 36,
   "metadata": {},
   "outputs": [
    {
     "name": "stdout",
     "output_type": "stream",
     "text": [
      "Preços totais:  [20, 60, 70]\n",
      "Total geral:  150\n"
     ]
    }
   ],
   "source": [
    "compras = (\n",
    "    {\n",
    "        \"quantidade\": 2,\n",
    "        \"preco\": 10\n",
    "    },\n",
    "    \n",
    "    {\n",
    "        \"quantidade\": 3,\n",
    "        \"preco\": 20\n",
    "    },\n",
    "    \n",
    "    {\n",
    "        \"quantidade\": 5,\n",
    "        \"preco\": 14\n",
    "    }\n",
    ")\n",
    "\n",
    "# Aqui só está armazenando em uma tupla para pode usar o método sum depois\n",
    "totais = tuple(\n",
    "    # A função map recebe 2 parâmetros: o 1º recebe um função e o 2º recebe um iterator (list, tuple, dict...)\n",
    "    map(\n",
    "        # Definindo uma função anônima\n",
    "        lambda compra: compra['quantidade'] * compra['preco'],\n",
    "        compras\n",
    "    )\n",
    ")\n",
    "\n",
    "print(\"Preços totais: \", list(totais))\n",
    "\n",
    "# A função sum vai somando todos os valores de um iterator\n",
    "print(\"Total geral: \", sum(totais))"
   ]
  },
  {
   "cell_type": "markdown",
   "metadata": {},
   "source": [
    "## Recursion"
   ]
  },
  {
   "cell_type": "code",
   "execution_count": 44,
   "metadata": {},
   "outputs": [
    {
     "name": "stdout",
     "output_type": "stream",
     "text": [
      "5! = 120\n"
     ]
    }
   ],
   "source": [
    "def fatorial(n):\n",
    "    return n * (fatorial(n - 1) if (n - 1) > 1 else 1)\n",
    "\n",
    "if __name__ == \"__main__\":\n",
    "    print(f\"5! = {fatorial(5)}\")"
   ]
  },
  {
   "cell_type": "markdown",
   "metadata": {},
   "source": [
    "## Immutability"
   ]
  },
  {
   "cell_type": "raw",
   "metadata": {},
   "source": [
    "Um objeto imutável possui algumas características, como:\n",
    "   redução ou eliminação de efeitos colaterais;\n",
    "   alta testabilidade; e\n",
    "   funções puras, que permitem o uso cache facilmente."
   ]
  },
  {
   "cell_type": "code",
   "execution_count": 6,
   "metadata": {},
   "outputs": [
    {
     "name": "stdout",
     "output_type": "stream",
     "text": [
      "[10, 25, 30, 70, 94, 100]\n",
      "10\n",
      "100\n",
      "329\n",
      "Tupla reversa:  (94, 100, 70, 25, 10, 30)\n",
      "\n",
      "\n",
      "Função reduce:\n",
      "329\n"
     ]
    },
    {
     "data": {
      "text/plain": [
       "'\\nA função reduce recebe 3 argumentos:\\n1. Função que será usada para o processamento (redução em um único valor);\\n2. Objeto que será iterado (iterable);\\n3. Valor inicial, que será usado como o acumulado anterior para o primeiro item - ESTE NÃO É OBRIGATÓRIO\\n'"
      ]
     },
     "execution_count": 6,
     "metadata": {},
     "output_type": "execute_result"
    }
   ],
   "source": [
    "from functools import reduce \n",
    "from operator import add\n",
    "\n",
    "valores = (30, 10, 25, 70, 100, 94)\n",
    "\n",
    "# Algumas funções que trabalham com objetos inimutáveis\n",
    "print(sorted(valores))\n",
    "print(min(valores))\n",
    "print(max(valores))\n",
    "print(sum(valores))\n",
    "print(\"Tupla reversa: \", tuple(reversed(valores)))\n",
    "\n",
    "print(\"\\n\")\n",
    "print(\"Função reduce:\")\n",
    "\n",
    "# A função reduce processa uma função a cada vez que uma posição do iterator é percorrida\n",
    "print(reduce(add, valores))\n",
    "\n",
    "\"\"\"\n",
    "A função reduce recebe 3 argumentos:\n",
    "1. Função que será usada para o processamento (redução em um único valor);\n",
    "2. Objeto que será iterado (iterable);\n",
    "3. Valor inicial, que será usado como o acumulado anterior para o primeiro item - ESTE NÃO É OBRIGATÓRIO\n",
    "\"\"\""
   ]
  },
  {
   "cell_type": "markdown",
   "metadata": {},
   "source": [
    "## Lazy Evaluation"
   ]
  },
  {
   "cell_type": "code",
   "execution_count": 9,
   "metadata": {},
   "outputs": [
    {
     "name": "stdout",
     "output_type": "stream",
     "text": [
      "<class 'generator'>\n",
      "vermelho\n",
      "laranja\n",
      "amarelo\n",
      "verde\n",
      "azul\n",
      "índigo\n",
      "violeta\n"
     ]
    }
   ],
   "source": [
    "def cores_arco_iris():\n",
    "    yield \"vermelho\"\n",
    "    yield \"laranja\"\n",
    "    yield \"amarelo\"\n",
    "    yield \"verde\"\n",
    "    yield \"azul\"\n",
    "    yield \"índigo\"\n",
    "    yield \"violeta\"\n",
    "    \n",
    "if __name__ == \"__main__\":\n",
    "    generator = cores_arco_iris()\n",
    "    print(type(generator))\n",
    "    \n",
    "    for cor in generator:\n",
    "        print(cor)"
   ]
  }
 ],
 "metadata": {
  "kernelspec": {
   "display_name": "Python 3",
   "language": "python",
   "name": "python3"
  },
  "language_info": {
   "codemirror_mode": {
    "name": "ipython",
    "version": 3
   },
   "file_extension": ".py",
   "mimetype": "text/x-python",
   "name": "python",
   "nbconvert_exporter": "python",
   "pygments_lexer": "ipython3",
   "version": "3.8.10"
  }
 },
 "nbformat": 4,
 "nbformat_minor": 4
}
