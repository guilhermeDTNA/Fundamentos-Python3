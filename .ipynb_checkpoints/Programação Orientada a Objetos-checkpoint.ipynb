{
 "cells": [
  {
   "cell_type": "markdown",
   "metadata": {},
   "source": [
    "## Instruções básicas"
   ]
  },
  {
   "cell_type": "code",
   "execution_count": 24,
   "metadata": {},
   "outputs": [
    {
     "name": "stdout",
     "output_type": "stream",
     "text": [
      "- Passar roupa - criado às 2023-08-08 22:32:06.524361\n",
      "- Lavar prato (feito) - criado às 2023-08-08 22:32:06.524365\n"
     ]
    }
   ],
   "source": [
    "#!/usr/bin/python3\n",
    "from datetime import datetime\n",
    "\n",
    "class Task():\n",
    "    \n",
    "    # Todo método de uma classe possui o parâmetro self em primeiro\n",
    "    # O self representa o próprio objeto que chamou o método\n",
    "    def __init__(self, descricao):\n",
    "        self.descricao = descricao\n",
    "        self.feito = False\n",
    "        self.criacao = datetime.now()\n",
    "        \n",
    "    def done(self):\n",
    "        self.feito = True\n",
    "        \n",
    "    # Toda classe possui os métodos init e str, o str sempre servirá para exibir informações do objeto\n",
    "    def __str__(self):\n",
    "        return f\"{self.descricao}\" + (\" (feito)\" if self.feito else \"\") + f\" - criado às {self.criacao}\"\n",
    "    \n",
    "def main():\n",
    "    casa = []\n",
    "    casa.append(Task(\"Passar roupa\"))\n",
    "    casa.append(Task(\"Lavar prato\"))\n",
    "    \n",
    "    # Faz um for e chama o método done caso a descrição seja \"lavar prato\"\n",
    "    [task.done() for task in casa if task.descricao == \"Lavar prato\"]\n",
    "    \n",
    "    for task in casa:\n",
    "        print(f\"- {task}\")\n",
    "              \n",
    "if __name__ == \"__main__\":\n",
    "    main()"
   ]
  },
  {
   "cell_type": "markdown",
   "metadata": {},
   "source": [
    "### Instanciando objetos"
   ]
  },
  {
   "cell_type": "code",
   "execution_count": 25,
   "metadata": {},
   "outputs": [
    {
     "name": "stdout",
     "output_type": "stream",
     "text": [
      "Casa (1 tarefas pendentes)\n",
      "- Passar roupa - criado às 2023-08-08 22:32:49.631317\n",
      "- Lavar prato (feito) - criado às 2023-08-08 22:32:49.631321\n",
      "Compras no mercado (2 tarefas pendentes)\n",
      "- Frutas secas - criado às 2023-08-08 22:32:49.631323\n",
      "- Carne (feito) - criado às 2023-08-08 22:32:49.631324\n",
      "- Tomate - criado às 2023-08-08 22:32:49.631325\n"
     ]
    }
   ],
   "source": [
    "class Project:\n",
    "    def __init__(self, nome):\n",
    "        self.nome = nome\n",
    "        self.tasks = []\n",
    "        \n",
    "    def add(self, descricao):\n",
    "        self.tasks.append(Task(descricao))\n",
    "        \n",
    "    def pendentes(self):\n",
    "        return [task for task in self.tasks if not task.feito]\n",
    "    \n",
    "    def find(self, descricao):\n",
    "        return [task for task in self.tasks if task.descricao == descricao][0]\n",
    "    \n",
    "    def __str__(self):\n",
    "        return f\"{self.nome} ({len(self.pendentes())} tarefas pendentes)\"\n",
    "    \n",
    "def main():\n",
    "    casa = Project(\"Casa\")\n",
    "    casa.add(\"Passar roupa\")\n",
    "    casa.add(\"Lavar prato\")\n",
    "    \n",
    "    mercado = Project(\"Compras no mercado\")\n",
    "    mercado.add(\"Frutas secas\")\n",
    "    mercado.add(\"Carne\")\n",
    "    mercado.add(\"Tomate\")\n",
    "    \n",
    "    casa.find(\"Lavar prato\").done()\n",
    "    mercado.find(\"Carne\").done()\n",
    "    print(casa)\n",
    "    for task in casa.tasks:\n",
    "        print(f\"- {task}\")\n",
    "        \n",
    "    print(mercado)\n",
    "    for task in mercado.tasks:\n",
    "        print(f\"- {task}\")\n",
    "        \n",
    "        \n",
    "if __name__ == \"__main__\":\n",
    "    main()"
   ]
  },
  {
   "cell_type": "markdown",
   "metadata": {},
   "source": [
    "### Retornando uma lista de elementos armazenada em um atributo"
   ]
  },
  {
   "cell_type": "code",
   "execution_count": 4,
   "metadata": {},
   "outputs": [
    {
     "name": "stdout",
     "output_type": "stream",
     "text": [
      "Tarefa 1\n",
      "Tarefa 2\n",
      "Tarefa 3\n",
      "Tarefa 4\n",
      "Tarefa 5\n",
      "Tarefa 6\n",
      "Tarefa 7\n",
      "Tarefa 8\n",
      "Tarefa 9\n",
      "Tarefa 10\n"
     ]
    }
   ],
   "source": [
    "class Projeto:\n",
    "    def __init__(self):\n",
    "        self.tasks = []\n",
    "        \n",
    "    def add(self, task):\n",
    "        self.tasks.append(task)\n",
    "        \n",
    "    def __iter__(self):\n",
    "        return self.tasks.__iter__()\n",
    "    \n",
    "if __name__ == \"__main__\":\n",
    "    projeto = Projeto()\n",
    "    \n",
    "    for i in range(0, 10):\n",
    "        projeto.add(f\"Tarefa {i+1}\")\n",
    "        \n",
    "    for task in projeto:\n",
    "        # Ao chamar o objeto dentro do for, ele já retorna o elemento dentro de sua lista\n",
    "        # Não precisa acessar o atributo que armazena a lista\n",
    "        print(task)"
   ]
  },
  {
   "cell_type": "markdown",
   "metadata": {},
   "source": [
    "### Herança"
   ]
  },
  {
   "cell_type": "code",
   "execution_count": 6,
   "metadata": {},
   "outputs": [
    {
     "name": "stdout",
     "output_type": "stream",
     "text": [
      "Nome: Hulk - Idade: 34 - Nº de títulos: 8\n",
      "Nome: Roger Fedderer - Idade: 31 - Nº de títulos: 12\n",
      "Nome: Rafael Nadal - Idade: 33 - Nº de títulos: 11\n"
     ]
    }
   ],
   "source": [
    "class Athlete():\n",
    "    def __init__(self, name, age, titles):\n",
    "        self.name = name\n",
    "        self.age = age\n",
    "        self.titles = titles\n",
    "        \n",
    "    def __str__(self):\n",
    "        return f\"Nome: {self.name} - Idade: {self.age} - Nº de títulos: {self.titles}\"\n",
    "    \n",
    "class Football(Athlete):\n",
    "    def __init__(self, name, age, titles, current_team):\n",
    "        super().__init__(name, age, titles)\n",
    "        self.current_team = current_team\n",
    "        \n",
    "class Tennis(Athlete):\n",
    "    def __init__(self, name, age, titles, olympics):\n",
    "        super().__init__(name, age, titles)\n",
    "        self.olympics = olympics\n",
    "        \n",
    "        \n",
    "if __name__ == \"__main__\":\n",
    "    hulk = Football(\"Hulk\", 34, 8, \"Galo\")\n",
    "    federer = Tennis(\"Roger Fedderer\", 31, 12, 4)\n",
    "    nadal = Tennis(\"Rafael Nadal\", 33, 11, 3)\n",
    "    \n",
    "    print(hulk)\n",
    "    print(federer)\n",
    "    print(nadal)"
   ]
  }
 ],
 "metadata": {
  "kernelspec": {
   "display_name": "Python 3",
   "language": "python",
   "name": "python3"
  },
  "language_info": {
   "codemirror_mode": {
    "name": "ipython",
    "version": 3
   },
   "file_extension": ".py",
   "mimetype": "text/x-python",
   "name": "python",
   "nbconvert_exporter": "python",
   "pygments_lexer": "ipython3",
   "version": "3.8.10"
  }
 },
 "nbformat": 4,
 "nbformat_minor": 4
}
