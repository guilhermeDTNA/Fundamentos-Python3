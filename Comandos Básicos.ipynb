{
 "cells": [
  {
   "cell_type": "markdown",
   "metadata": {},
   "source": [
    "## Funções de auxílio e comentários"
   ]
  },
  {
   "cell_type": "code",
   "execution_count": 42,
   "metadata": {},
   "outputs": [
    {
     "name": "stdout",
     "output_type": "stream",
     "text": [
      "Help on class int in module builtins:\n",
      "\n",
      "class int(object)\n",
      " |  int([x]) -> integer\n",
      " |  int(x, base=10) -> integer\n",
      " |  \n",
      " |  Convert a number or string to an integer, or return 0 if no arguments\n",
      " |  are given.  If x is a number, return x.__int__().  For floating point\n",
      " |  numbers, this truncates towards zero.\n",
      " |  \n",
      " |  If x is not a number or if base is given, then x must be a string,\n",
      " |  bytes, or bytearray instance representing an integer literal in the\n",
      " |  given base.  The literal can be preceded by '+' or '-' and be surrounded\n",
      " |  by whitespace.  The base defaults to 10.  Valid bases are 0 and 2-36.\n",
      " |  Base 0 means to interpret the base from the string as an integer literal.\n",
      " |  >>> int('0b100', base=0)\n",
      " |  4\n",
      " |  \n",
      " |  Built-in subclasses:\n",
      " |      bool\n",
      " |  \n",
      " |  Methods defined here:\n",
      " |  \n",
      " |  __abs__(self, /)\n",
      " |      abs(self)\n",
      " |  \n",
      " |  __add__(self, value, /)\n",
      " |      Return self+value.\n",
      " |  \n",
      " |  __and__(self, value, /)\n",
      " |      Return self&value.\n",
      " |  \n",
      " |  __bool__(self, /)\n",
      " |      True if self else False\n",
      " |  \n",
      " |  __ceil__(...)\n",
      " |      Ceiling of an Integral returns itself.\n",
      " |  \n",
      " |  __divmod__(self, value, /)\n",
      " |      Return divmod(self, value).\n",
      " |  \n",
      " |  __eq__(self, value, /)\n",
      " |      Return self==value.\n",
      " |  \n",
      " |  __float__(self, /)\n",
      " |      float(self)\n",
      " |  \n",
      " |  __floor__(...)\n",
      " |      Flooring an Integral returns itself.\n",
      " |  \n",
      " |  __floordiv__(self, value, /)\n",
      " |      Return self//value.\n",
      " |  \n",
      " |  __format__(self, format_spec, /)\n",
      " |      Default object formatter.\n",
      " |  \n",
      " |  __ge__(self, value, /)\n",
      " |      Return self>=value.\n",
      " |  \n",
      " |  __getattribute__(self, name, /)\n",
      " |      Return getattr(self, name).\n",
      " |  \n",
      " |  __getnewargs__(self, /)\n",
      " |  \n",
      " |  __gt__(self, value, /)\n",
      " |      Return self>value.\n",
      " |  \n",
      " |  __hash__(self, /)\n",
      " |      Return hash(self).\n",
      " |  \n",
      " |  __index__(self, /)\n",
      " |      Return self converted to an integer, if self is suitable for use as an index into a list.\n",
      " |  \n",
      " |  __int__(self, /)\n",
      " |      int(self)\n",
      " |  \n",
      " |  __invert__(self, /)\n",
      " |      ~self\n",
      " |  \n",
      " |  __le__(self, value, /)\n",
      " |      Return self<=value.\n",
      " |  \n",
      " |  __lshift__(self, value, /)\n",
      " |      Return self<<value.\n",
      " |  \n",
      " |  __lt__(self, value, /)\n",
      " |      Return self<value.\n",
      " |  \n",
      " |  __mod__(self, value, /)\n",
      " |      Return self%value.\n",
      " |  \n",
      " |  __mul__(self, value, /)\n",
      " |      Return self*value.\n",
      " |  \n",
      " |  __ne__(self, value, /)\n",
      " |      Return self!=value.\n",
      " |  \n",
      " |  __neg__(self, /)\n",
      " |      -self\n",
      " |  \n",
      " |  __or__(self, value, /)\n",
      " |      Return self|value.\n",
      " |  \n",
      " |  __pos__(self, /)\n",
      " |      +self\n",
      " |  \n",
      " |  __pow__(self, value, mod=None, /)\n",
      " |      Return pow(self, value, mod).\n",
      " |  \n",
      " |  __radd__(self, value, /)\n",
      " |      Return value+self.\n",
      " |  \n",
      " |  __rand__(self, value, /)\n",
      " |      Return value&self.\n",
      " |  \n",
      " |  __rdivmod__(self, value, /)\n",
      " |      Return divmod(value, self).\n",
      " |  \n",
      " |  __repr__(self, /)\n",
      " |      Return repr(self).\n",
      " |  \n",
      " |  __rfloordiv__(self, value, /)\n",
      " |      Return value//self.\n",
      " |  \n",
      " |  __rlshift__(self, value, /)\n",
      " |      Return value<<self.\n",
      " |  \n",
      " |  __rmod__(self, value, /)\n",
      " |      Return value%self.\n",
      " |  \n",
      " |  __rmul__(self, value, /)\n",
      " |      Return value*self.\n",
      " |  \n",
      " |  __ror__(self, value, /)\n",
      " |      Return value|self.\n",
      " |  \n",
      " |  __round__(...)\n",
      " |      Rounding an Integral returns itself.\n",
      " |      \n",
      " |      Rounding with an ndigits argument also returns an integer.\n",
      " |  \n",
      " |  __rpow__(self, value, mod=None, /)\n",
      " |      Return pow(value, self, mod).\n",
      " |  \n",
      " |  __rrshift__(self, value, /)\n",
      " |      Return value>>self.\n",
      " |  \n",
      " |  __rshift__(self, value, /)\n",
      " |      Return self>>value.\n",
      " |  \n",
      " |  __rsub__(self, value, /)\n",
      " |      Return value-self.\n",
      " |  \n",
      " |  __rtruediv__(self, value, /)\n",
      " |      Return value/self.\n",
      " |  \n",
      " |  __rxor__(self, value, /)\n",
      " |      Return value^self.\n",
      " |  \n",
      " |  __sizeof__(self, /)\n",
      " |      Returns size in memory, in bytes.\n",
      " |  \n",
      " |  __sub__(self, value, /)\n",
      " |      Return self-value.\n",
      " |  \n",
      " |  __truediv__(self, value, /)\n",
      " |      Return self/value.\n",
      " |  \n",
      " |  __trunc__(...)\n",
      " |      Truncating an Integral returns itself.\n",
      " |  \n",
      " |  __xor__(self, value, /)\n",
      " |      Return self^value.\n",
      " |  \n",
      " |  as_integer_ratio(self, /)\n",
      " |      Return integer ratio.\n",
      " |      \n",
      " |      Return a pair of integers, whose ratio is exactly equal to the original int\n",
      " |      and with a positive denominator.\n",
      " |      \n",
      " |      >>> (10).as_integer_ratio()\n",
      " |      (10, 1)\n",
      " |      >>> (-10).as_integer_ratio()\n",
      " |      (-10, 1)\n",
      " |      >>> (0).as_integer_ratio()\n",
      " |      (0, 1)\n",
      " |  \n",
      " |  bit_count(self, /)\n",
      " |      Number of ones in the binary representation of the absolute value of self.\n",
      " |      \n",
      " |      Also known as the population count.\n",
      " |      \n",
      " |      >>> bin(13)\n",
      " |      '0b1101'\n",
      " |      >>> (13).bit_count()\n",
      " |      3\n",
      " |  \n",
      " |  bit_length(self, /)\n",
      " |      Number of bits necessary to represent self in binary.\n",
      " |      \n",
      " |      >>> bin(37)\n",
      " |      '0b100101'\n",
      " |      >>> (37).bit_length()\n",
      " |      6\n",
      " |  \n",
      " |  conjugate(...)\n",
      " |      Returns self, the complex conjugate of any int.\n",
      " |  \n",
      " |  to_bytes(self, /, length=1, byteorder='big', *, signed=False)\n",
      " |      Return an array of bytes representing an integer.\n",
      " |      \n",
      " |      length\n",
      " |        Length of bytes object to use.  An OverflowError is raised if the\n",
      " |        integer is not representable with the given number of bytes.  Default\n",
      " |        is length 1.\n",
      " |      byteorder\n",
      " |        The byte order used to represent the integer.  If byteorder is 'big',\n",
      " |        the most significant byte is at the beginning of the byte array.  If\n",
      " |        byteorder is 'little', the most significant byte is at the end of the\n",
      " |        byte array.  To request the native byte order of the host system, use\n",
      " |        `sys.byteorder' as the byte order value.  Default is to use 'big'.\n",
      " |      signed\n",
      " |        Determines whether two's complement is used to represent the integer.\n",
      " |        If signed is False and a negative integer is given, an OverflowError\n",
      " |        is raised.\n",
      " |  \n",
      " |  ----------------------------------------------------------------------\n",
      " |  Class methods defined here:\n",
      " |  \n",
      " |  from_bytes(bytes, byteorder='big', *, signed=False) from builtins.type\n",
      " |      Return the integer represented by the given array of bytes.\n",
      " |      \n",
      " |      bytes\n",
      " |        Holds the array of bytes to convert.  The argument must either\n",
      " |        support the buffer protocol or be an iterable object producing bytes.\n",
      " |        Bytes and bytearray are examples of built-in objects that support the\n",
      " |        buffer protocol.\n",
      " |      byteorder\n",
      " |        The byte order used to represent the integer.  If byteorder is 'big',\n",
      " |        the most significant byte is at the beginning of the byte array.  If\n",
      " |        byteorder is 'little', the most significant byte is at the end of the\n",
      " |        byte array.  To request the native byte order of the host system, use\n",
      " |        `sys.byteorder' as the byte order value.  Default is to use 'big'.\n",
      " |      signed\n",
      " |        Indicates whether two's complement is used to represent the integer.\n",
      " |  \n",
      " |  ----------------------------------------------------------------------\n",
      " |  Static methods defined here:\n",
      " |  \n",
      " |  __new__(*args, **kwargs) from builtins.type\n",
      " |      Create and return a new object.  See help(type) for accurate signature.\n",
      " |  \n",
      " |  ----------------------------------------------------------------------\n",
      " |  Data descriptors defined here:\n",
      " |  \n",
      " |  denominator\n",
      " |      the denominator of a rational number in lowest terms\n",
      " |  \n",
      " |  imag\n",
      " |      the imaginary part of a complex number\n",
      " |  \n",
      " |  numerator\n",
      " |      the numerator of a rational number in lowest terms\n",
      " |  \n",
      " |  real\n",
      " |      the real part of a complex number\n",
      "\n"
     ]
    }
   ],
   "source": [
    "# Exibe ajuda sobre a palavra reservada passada por parâmetro\n",
    "help(int)"
   ]
  },
  {
   "cell_type": "code",
   "execution_count": 9,
   "metadata": {},
   "outputs": [
    {
     "data": {
      "text/plain": [
       "'\\nlinhas comentadas\\n...\\n...\\n'"
      ]
     },
     "execution_count": 9,
     "metadata": {},
     "output_type": "execute_result"
    }
   ],
   "source": [
    "teste = 1\n",
    "# Exibe os membros do escopo atual de um determinado objeto\n",
    "dir(teste)\n",
    "\n",
    "# Comentário de múltiplas linhas:\n",
    "\"\"\"\n",
    "linhas comentadas\n",
    "...\n",
    "...\n",
    "\"\"\""
   ]
  },
  {
   "cell_type": "markdown",
   "metadata": {},
   "source": [
    "## Operações, métodos, conversões de variáveis e entrada de dados"
   ]
  },
  {
   "cell_type": "markdown",
   "metadata": {},
   "source": [
    "### Operações e métodos:"
   ]
  },
  {
   "cell_type": "code",
   "execution_count": 10,
   "metadata": {},
   "outputs": [
    {
     "name": "stdout",
     "output_type": "stream",
     "text": [
      "2 elevado a 5 é: 32\n",
      "10 dividido por 3 corresponde ao inteiro: 3\n",
      "Float sem formatação: 14.7555\n",
      "Floa formatado: 14.76\n",
      "Meu nome é Guilherme e tenho 25 anos\n",
      "O nome \"Guilherme Rocha Leite\" fica assim no lowercase: guilherme rocha leite\n",
      "O nome \"Guilherme Rocha Leite\" fica assim no uppercase: GUILHERME ROCHA LEITE\n",
      "O nome \"Guilherme Rocha Leite\" fica assim no capitalize: Guilherme rocha leite\n",
      "A substring 'Roch' existe no meu nome? Resposta True\n",
      "Número de caracteres: 21\n",
      "['Guilherme', 'Rocha', 'Leite']\n",
      "\n",
      "\n",
      "Guilherme\n",
      "Rocha\n",
      "Leite\n"
     ]
    }
   ],
   "source": [
    "# Exponenciação\n",
    "result = 2 ** 5\n",
    "print(\"2 elevado a 5 é:\",result)\n",
    "\n",
    "# Divisão inteira\n",
    "result = 10 // 3\n",
    "print(\"10 dividido por 3 corresponde ao inteiro:\", result)\n",
    "\n",
    "# Definindo 2 casas decimais para um float\n",
    "num = 14.7555\n",
    "numFormatado = '{:.2f}'.format(num)\n",
    "print(f\"Float sem formatação: {num}\\nFloa formatado: {numFormatado}\")\n",
    "\n",
    "# Outra forma de exibir textos com variáveis\n",
    "print(\"Meu nome é {} e tenho {} anos\".format(\"Guilherme\", 25))\n",
    "\n",
    "nome = \"Guilherme Rocha Leite\"\n",
    "\n",
    "# Converter string para lower, ou upper ou capitalize cases\n",
    "print(\"O nome \\\"Guilherme Rocha Leite\\\" fica assim no lowercase:\", nome.lower())\n",
    "print(\"O nome \\\"Guilherme Rocha Leite\\\" fica assim no uppercase:\", nome.upper())\n",
    "print(\"O nome \\\"Guilherme Rocha Leite\\\" fica assim no capitalize:\", nome.capitalize())\n",
    "\n",
    "# Verificar substring\n",
    "print(\"A substring 'Roch' existe no meu nome? Resposta\", \"Roch\" in nome)\n",
    "\n",
    "# Número de caracteres na string\n",
    "print(\"Número de caracteres:\", len(nome))\n",
    "\n",
    "# Função split\n",
    "print(nome.split())\n",
    "\n",
    "# Armazenando várias linhas em uma string:\n",
    "nome = \"\"\"Guilherme\n",
    "Rocha\n",
    "Leite\"\"\"\n",
    "print(\"\\n\")\n",
    "print(nome)"
   ]
  },
  {
   "cell_type": "markdown",
   "metadata": {},
   "source": [
    "### Conversão de tipos:"
   ]
  },
  {
   "cell_type": "code",
   "execution_count": 44,
   "metadata": {},
   "outputs": [
    {
     "name": "stdout",
     "output_type": "stream",
     "text": [
      "3 em <class 'str'>\n",
      "3 em <class 'int'>\n",
      "3 em <class 'float'>\n",
      "\n",
      "Concatenando 3 e 4 fica: 34\n"
     ]
    }
   ],
   "source": [
    "# Para string\n",
    "var = str(3)\n",
    "print(\"3 em\", type(var))\n",
    "\n",
    "# Para int\n",
    "var = int(\"3\")\n",
    "print(\"3 em\", type(var))\n",
    "\n",
    "# Para float\n",
    "var = float(3)\n",
    "print(\"3 em\", type(var))\n",
    "\n",
    "\n",
    "#Concatenação de strings\n",
    "var = str(3) + \"4\"\n",
    "print(\"\\nConcatenando 3 e 4 fica:\", var)"
   ]
  },
  {
   "cell_type": "markdown",
   "metadata": {},
   "source": [
    "### Entrada de dados"
   ]
  },
  {
   "cell_type": "code",
   "execution_count": null,
   "metadata": {},
   "outputs": [],
   "source": [
    "raio = int(input(\"Informe o raio:\\n\"))\n",
    "print('Área do círculo:', math.pi * raio ** 2)"
   ]
  },
  {
   "cell_type": "markdown",
   "metadata": {},
   "source": [
    "## Listas:"
   ]
  },
  {
   "cell_type": "code",
   "execution_count": 2,
   "metadata": {},
   "outputs": [
    {
     "name": "stdout",
     "output_type": "stream",
     "text": [
      "Último valor: 10.1 - Penúltimo valor: 4\n",
      "3\n",
      "Valores entre as posições 1 e 3: ['Teste 1', 'Teste 2']\n",
      "Lista reversa:  ['Último item', 10.1, 4, 3, 'Teste 2', 'Teste 1', 'Item 1']\n"
     ]
    },
    {
     "data": {
      "text/plain": [
       "0"
      ]
     },
     "execution_count": 2,
     "metadata": {},
     "output_type": "execute_result"
    }
   ],
   "source": [
    "# Criando uma lista\n",
    "list = [\"Teste 1\", \"Teste 2\", 3, 4, 10.1]\n",
    "\n",
    "# Acessando último e penúltimo valores de uma lista sem saber seu tamanho\n",
    "print(\"Último valor:\", list[-1], \"- Penúltimo valor:\", list[-2])\n",
    "\n",
    "# Retorna a posição de um valor\n",
    "print(list.index(4))\n",
    "\n",
    "# Inserindo valor na posição 0\n",
    "list.insert(0, \"Item 1\")\n",
    "\n",
    "# Inserindo na última posição\n",
    "list.append(\"Último item\")\n",
    "\n",
    "# Retorna os valores entre as posições especificadas\n",
    "print(\"Valores entre as posições 1 e 3:\", list[1:3])\n",
    "\n",
    "# Retorna a lista de forma reversa\n",
    "print(\"Lista reversa: \", list[::-1])\n",
    "\n",
    "# Removendo um determinado elemento:\n",
    "list.remove(3)\n",
    "\n",
    "# Excluindo todos os elementos:\n",
    "list.clear()\n",
    "\n",
    "# Conferindo o número de elementos:\n",
    "len(list)"
   ]
  },
  {
   "cell_type": "markdown",
   "metadata": {},
   "source": [
    "## Tuplas"
   ]
  },
  {
   "cell_type": "raw",
   "metadata": {},
   "source": [
    "São semelhantes às listas, porém não podem ser alteradas, ou seja, só aceita elementos que não podem remover ou adicionar valores, como listas e dicionários."
   ]
  },
  {
   "cell_type": "code",
   "execution_count": 35,
   "metadata": {},
   "outputs": [
    {
     "name": "stdout",
     "output_type": "stream",
     "text": [
      "<class 'str'>\n",
      "<class 'tuple'>\n",
      "dois\n"
     ]
    }
   ],
   "source": [
    "tupla = tuple()\n",
    "type(tupla)\n",
    "\n",
    "# Exibe todas as funções de uma tupla:\n",
    "#dir(tupla)\n",
    "\n",
    "# Isso é uma string:\n",
    "tupla = (\"um\")\n",
    "print(type(tupla))\n",
    "\n",
    "# Isso é uma tupla:\n",
    "tupla = (\"um\",)\n",
    "print(type(tupla))\n",
    "\n",
    "tupla = (\"um\", \"dois\", \"três\")\n",
    "# É chamado igual em listas\n",
    "print(tupla[1])"
   ]
  },
  {
   "cell_type": "markdown",
   "metadata": {},
   "source": [
    "## Dicionários"
   ]
  },
  {
   "cell_type": "raw",
   "metadata": {},
   "source": [
    "São listas que possuem uma chave para cada valor armazenado"
   ]
  },
  {
   "cell_type": "code",
   "execution_count": 34,
   "metadata": {},
   "outputs": [
    {
     "name": "stdout",
     "output_type": "stream",
     "text": [
      "['JS', 'Java', 'Python']\n",
      "Guilherme Rocha\n",
      "dict_keys(['nome', 'idade', 'cursos'])\n",
      "dict_values(['Guilherme Rocha', 25, ['JS', 'Java', 'Python']])\n",
      "dict_items([('nome', 'Guilherme Rocha'), ('idade', 25), ('cursos', ['JS', 'Java', 'Python'])])\n",
      "{'nome': 'Guilherme Rocha', 'idade': 34, 'cursos': ['JS', 'Java', 'Python'], 'sexo': 'M'}\n"
     ]
    }
   ],
   "source": [
    "pessoa = {\"nome\": \"Guilherme Rocha\", \"idade\": 25, \"cursos\": [\"JS\", \"Java\", \"Python\"]}\n",
    "type(pessoa)\n",
    "\n",
    "# Chave \"cursos\"\n",
    "print(pessoa[\"cursos\"])\n",
    "\n",
    "# Chave \"nome\"\n",
    "print(pessoa[\"nome\"])\n",
    "\n",
    "# Retorna todas as chaves possíveis\n",
    "print(pessoa.keys())\n",
    "\n",
    "# Retorna todos os valores\n",
    "print(pessoa.values())\n",
    "\n",
    "# Retorna os valores e chaves de forma associada\n",
    "print(pessoa.items())\n",
    "\n",
    "# Altera o valor de uma chave\n",
    "pessoa[\"idade\"] = 26\n",
    "\n",
    "# Atualiza a lista, adicionando, removendo ou alterando chaves\n",
    "pessoa.update({\"idade\": 34, \"sexo\": \"M\"})\n",
    "\n",
    "print(pessoa)\n",
    "\n",
    "# Deleta uma chave\n",
    "del pessoa[\"sexo\"]\n",
    "\n",
    "# Limpa a lista\n",
    "pessoa.clear()"
   ]
  },
  {
   "cell_type": "markdown",
   "metadata": {},
   "source": [
    "## Conjuntos"
   ]
  },
  {
   "cell_type": "raw",
   "metadata": {},
   "source": [
    "Conjuntos são similares às listas, porém só pode conter elementos únicos, não possuem index, não são ordenados e todos os elementos devem ser imutáveis"
   ]
  },
  {
   "cell_type": "code",
   "execution_count": 60,
   "metadata": {},
   "outputs": [
    {
     "name": "stdout",
     "output_type": "stream",
     "text": [
      "<class 'set'>\n",
      "{'c', 'b', 'a', 'd'}\n",
      "False True\n",
      "True\n"
     ]
    }
   ],
   "source": [
    "# Única forma de se declarar um conjunto vazio\n",
    "conjunto = set()\n",
    "print(type(conjunto))\n",
    "\n",
    "conjunto = {2, 3, 4, 5}\n",
    "\n",
    "# O comando abaixo não funciona porque conjuntos não trabalham com indexação\n",
    "# print(conjunto[1])\n",
    "\n",
    "# Ele aceita qualquer tipo de entrada - que seja imútavel - mas sempre elimina elementos repetidos\n",
    "novo_conjunto = set(\"abbcccdddd\")\n",
    "\n",
    "# A ordem NUNCA é garantida\n",
    "print(novo_conjunto)\n",
    "\n",
    "# Verifica se os elementos estão no conjunto\n",
    "print(\"e\" in novo_conjunto, \"f\" not in novo_conjunto)\n",
    "\n",
    "# A ordem não importa caso for comparar 2 conjuntos\n",
    "conjunto_2 = {3, 5, 2, 4}\n",
    "print(conjunto == conjunto_2)"
   ]
  },
  {
   "cell_type": "markdown",
   "metadata": {},
   "source": [
    "### Operações com conjuntos"
   ]
  },
  {
   "cell_type": "code",
   "execution_count": null,
   "metadata": {},
   "outputs": [],
   "source": [
    "c1 = {1, 2}\n",
    "c2 = {2, 3}\n",
    "\n",
    "# União entre conjuntos\n",
    "print(c1.union(c2))\n",
    "\n",
    "# Interseção entre conjuntos\n",
    "print(c1.intersection(c2))\n",
    "\n",
    "# Atualiza os valores de um conjunto\n",
    "c1.update(c2)\n",
    "\n",
    "# Diferença entre dois conjuntos\n",
    "print(c1 - c2)\n",
    "\n",
    "# Tamanho de conjuntos\n",
    "print(\"Conjunto c1 é maior que o c2?\", c1 > c2)\n",
    "print(\"Conjunto c2 é maior que o c1?\", c2 > c1)"
   ]
  },
  {
   "cell_type": "markdown",
   "metadata": {},
   "source": [
    "## Interpolação de Strings"
   ]
  },
  {
   "cell_type": "code",
   "execution_count": 68,
   "metadata": {},
   "outputs": [
    {
     "name": "stdout",
     "output_type": "stream",
     "text": [
      "Nome: Guilherme - Idade: 25\n",
      "Nome: Guilherme - Idade: 25\n",
      "Nome: Guilherme - Idade: 25\n"
     ]
    }
   ],
   "source": [
    "# Importando o pacote\n",
    "from string import Template\n",
    "\n",
    "nome, idade = \"Guilherme\", 25\n",
    "\n",
    "# Até o python 3.5\n",
    "print('Nome: {0} - Idade: {1}'.format(nome, idade))\n",
    "\n",
    "# Maneira mais atual\n",
    "print(f'Nome: {nome} - Idade: {idade}')\n",
    "\n",
    "# Maneira mais segura (usada para entrada de dados sensíveis pelo usuário)\n",
    "s = Template('Nome: $nome - Idade: $idade')\n",
    "print(s.substitute(nome = nome, idade = idade))"
   ]
  },
  {
   "cell_type": "markdown",
   "metadata": {},
   "source": [
    "## Funções, estruturas condicionais, estruturas de repetição e biblioteca SYS"
   ]
  },
  {
   "cell_type": "markdown",
   "metadata": {},
   "source": [
    "### Função, if - else, name do módulo"
   ]
  },
  {
   "cell_type": "code",
   "execution_count": null,
   "metadata": {},
   "outputs": [],
   "source": [
    "import math\n",
    "\n",
    "# Comando def cria uma função\n",
    "def circulo(raio):\n",
    "    print(__name__)\n",
    "    area = math.pi * raio ** 2\n",
    "    print(f'Área calculada: {area}')\n",
    "    return area\n",
    "\n",
    "# Retorna o nome do módulo atual - se não estiver dentro de um def, vai ser __main__\n",
    "if __name__ == '__main__':\n",
    "    raio = int(input(\"Informe o raio do círculo: \"))\n",
    "    \n",
    "    # Estrutura if - else\n",
    "    if circulo(raio) > 706:\n",
    "        print(\"A área é maior que 706\")\n",
    "        \n",
    "    else:\n",
    "        print(\"A área é menor ou igual a 706\")"
   ]
  },
  {
   "cell_type": "markdown",
   "metadata": {},
   "source": [
    "### Biblioteca SYS"
   ]
  },
  {
   "cell_type": "code",
   "execution_count": 4,
   "metadata": {},
   "outputs": [
    {
     "name": "stdout",
     "output_type": "stream",
     "text": [
      "    É necessário informar o raio do círculo.\n",
      "    Sintaxe: area_circulo <raio>\n",
      "O raio deve ser um valor inteiro!\n"
     ]
    },
    {
     "ename": "SystemExit",
     "evalue": "2",
     "output_type": "error",
     "traceback": [
      "An exception has occurred, use %tb to see the full traceback.\n",
      "\u001b[0;31mSystemExit\u001b[0m\u001b[0;31m:\u001b[0m 2\n"
     ]
    }
   ],
   "source": [
    "#!/usr/bin/python3\n",
    "import math\n",
    "import sys\n",
    "\n",
    "def circulo(raio):\n",
    "    return math.pi * raio ** 2\n",
    "\n",
    "# Função que informa quando dá algum erro\n",
    "def help():\n",
    "    print(\"\"\"\\\n",
    "    É necessário informar o raio do círculo.\n",
    "    Sintaxe: area_circulo <raio>\"\"\")\n",
    "\n",
    "if __name__ == '__main__':\n",
    "\n",
    "    # O sys.argv recebe os parâmetros passados pela linha de comando\n",
    "    # O argv[0] é sempre o nome do script (area_circulo)\n",
    "    if len(sys.argv) < 2:\n",
    "        help()\n",
    "\n",
    "        # Retorna sempre diferente de 0 em caso de erro\n",
    "        # Dessa forma, nem precisa do else\n",
    "        sys.exit(1)\n",
    "\n",
    "    # Valida se o argumento passado é um valor inteiro\n",
    "    if not sys.argv[1].isnumeric():\n",
    "        help()\n",
    "        print(\"O raio deve ser um valor inteiro!\")\n",
    "        sys.exit(2)\n",
    "\n",
    "    raio = int(sys.argv[1])\n",
    "    area = circulo(raio)\n",
    "    print('Área do círculo', area)"
   ]
  },
  {
   "cell_type": "markdown",
   "metadata": {},
   "source": [
    "### Estruturas de repetição"
   ]
  },
  {
   "cell_type": "code",
   "execution_count": 1,
   "metadata": {},
   "outputs": [
    {
     "name": "stdout",
     "output_type": "stream",
     "text": [
      "0\n",
      "1\n",
      "1\n",
      "2\n",
      "3\n",
      "5\n",
      "8\n",
      "13\n",
      "21\n",
      "34\n",
      "55\n",
      "89\n",
      "144\n",
      "233\n",
      "377\n",
      "610\n",
      "987\n",
      "1597\n",
      "Lista gerada:  [2, 3, 4, 5, 6, 7, 8, 9, 10, 11, 12, 13, 14, 15, 16, 17, 18, 19]\n"
     ]
    }
   ],
   "source": [
    "#!/usr/bin/python3\n",
    "\n",
    "def fibonnaci(limite):\n",
    "    resultado = [0, 1]\n",
    "\n",
    "    while resultado[-1] < limite:\n",
    "        resultado.append(resultado[-2] + resultado[-1])\n",
    "\n",
    "        if len(resultado) == limite-1:\n",
    "            # O break pode ser usado para o while e para o for\n",
    "            break\n",
    "        \n",
    "    return resultado\n",
    "\n",
    "\n",
    "def gerandoNumeros(max):\n",
    "    resultado = []\n",
    "    \n",
    "    # Gera os números entre 2 e o máximo-1 de forma ordenada\n",
    "    for i in range(2, max):\n",
    "        resultado.append(i)\n",
    "\n",
    "    print(\"Lista gerada: \", resultado)\n",
    "\n",
    "if __name__ == '__main__':\n",
    "    for fib in fibonnaci(1000):\n",
    "        print(fib)\n",
    "\n",
    "    gerandoNumeros(20)"
   ]
  },
  {
   "cell_type": "markdown",
   "metadata": {},
   "source": [
    "### Manipulação de arquivos"
   ]
  },
  {
   "cell_type": "raw",
   "metadata": {},
   "source": [
    "Leitura de arquivos"
   ]
  },
  {
   "cell_type": "code",
   "execution_count": 23,
   "metadata": {},
   "outputs": [
    {
     "name": "stdout",
     "output_type": "stream",
     "text": [
      "Nome: Maria - Idade:  45\n",
      "\n",
      "Nome: João - Idade:  33\n",
      "\n",
      "Nome: Pedro - Idade:  63\n",
      "\n",
      "Nome: Ana - Idade:  21\n",
      "\n",
      "Nome: Bia - Idade:  40\n",
      "\n",
      "Nome: Carlos - Idade:  14\n",
      "\n",
      "Nome: Maria - Idade:  45\n",
      "Nome: João - Idade:  33\n",
      "Nome: Pedro - Idade:  63\n",
      "Nome: Ana - Idade:  21\n",
      "Nome: Bia - Idade:  40\n",
      "Nome: Carlos - Idade:  14\n",
      "\n",
      " Usando o try... finally\n",
      "Nome: Maria - Idade:  45\n",
      "Nome: João - Idade:  33\n",
      "Nome: Pedro - Idade:  63\n",
      "Nome: Ana - Idade:  21\n",
      "Nome: Bia - Idade:  40\n",
      "Nome: Carlos - Idade:  14\n",
      "\n",
      "ARQUIVO FECHADO!\n",
      "\n",
      " Usando o with\n",
      "Nome: Maria - Idade:  45\n",
      "Nome: João - Idade:  33\n",
      "Nome: Pedro - Idade:  63\n",
      "Nome: Ana - Idade:  21\n",
      "Nome: Bia - Idade:  40\n",
      "Nome: Carlos - Idade:  14\n",
      "ARQUIVO FECHADO\n"
     ]
    }
   ],
   "source": [
    "arquivo = open(\"Arquivos/pessoas.csv\")\n",
    "for registro in arquivo:\n",
    "    # Necessário usar o * para extrair os dados de dentro da lista gerada pelo split\n",
    "    print(\"Nome: {} - Idade: {}\".format(*registro.split(\",\")))\n",
    "    \n",
    "arquivo.close()\n",
    "\n",
    "\n",
    "# Função strip(): retira os espaços das bordas das strings\n",
    "arquivo = open(\"Arquivos/pessoas.csv\")\n",
    "for registro in arquivo:\n",
    "    print(\"Nome: {} - Idade: {}\".format(*registro.strip().split(\",\")))\n",
    "arquivo.close()\n",
    "\n",
    "\n",
    "# Usando try e finally para fechar obrigatoriamente o arquivo, mesmo que houver erro\n",
    "print(\"\\n Usando o try... finally\")\n",
    "arquivo = open(\"Arquivos/pessoas.csv\")\n",
    "try:\n",
    "    for registro in arquivo:\n",
    "        print(\"Nome: {} - Idade: {}\".format(*registro.strip().split(\",\")))\n",
    "finally:\n",
    "    arquivo.close()\n",
    "    \n",
    "if arquivo.closed:\n",
    "    print(\"\\nARQUIVO FECHADO!\")\n",
    "    \n",
    "    \n",
    "# Usando o with - simula o try... finally\n",
    "# Nem precisa fechar o arquivo, pois já é automaticamente fechado\n",
    "print(\"\\n Usando o with\")\n",
    "with open(\"Arquivos/pessoas.csv\") as arquivo:\n",
    "    for registro in arquivo:\n",
    "        print(\"Nome: {} - Idade: {}\".format(*registro.strip().split(\",\")))\n",
    "        \n",
    "if arquivo.closed:\n",
    "    print(\"ARQUIVO FECHADO\")"
   ]
  },
  {
   "cell_type": "raw",
   "metadata": {},
   "source": [
    "Gravação em arquivos"
   ]
  },
  {
   "cell_type": "code",
   "execution_count": 20,
   "metadata": {},
   "outputs": [],
   "source": [
    "with open(\"Arquivos/pessoas.csv\") as entrada:\n",
    "    with open(\"Arquivos/pessoas.txt\", \"w\") as saida:\n",
    "        for registro in entrada:\n",
    "            pessoa = registro.strip().split(\",\")\n",
    "            print(\"Nome: {} - Idade: {}\".format(*pessoa), file=saida)"
   ]
  }
 ],
 "metadata": {
  "kernelspec": {
   "display_name": "Python 3",
   "language": "python",
   "name": "python3"
  },
  "language_info": {
   "codemirror_mode": {
    "name": "ipython",
    "version": 3
   },
   "file_extension": ".py",
   "mimetype": "text/x-python",
   "name": "python",
   "nbconvert_exporter": "python",
   "pygments_lexer": "ipython3",
   "version": "3.8.10"
  }
 },
 "nbformat": 4,
 "nbformat_minor": 5
}
