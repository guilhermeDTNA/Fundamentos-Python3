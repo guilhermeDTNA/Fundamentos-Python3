{
 "cells": [
  {
   "cell_type": "markdown",
   "metadata": {},
   "source": [
    "# Nível: Iniciante"
   ]
  },
  {
   "cell_type": "markdown",
   "metadata": {},
   "source": [
    "## Listas de revisão: https://wiki.python.org.br/ListaDeExercicios"
   ]
  },
  {
   "cell_type": "markdown",
   "metadata": {},
   "source": [
    "### Estrutura sequencial: https://wiki.python.org.br/EstruturaSequencial"
   ]
  },
  {
   "cell_type": "raw",
   "metadata": {},
   "source": [
    "1) Faça um Programa que mostre a mensagem \"Alo mundo\" na tela."
   ]
  },
  {
   "cell_type": "code",
   "execution_count": 1,
   "metadata": {},
   "outputs": [
    {
     "name": "stdout",
     "output_type": "stream",
     "text": [
      "Alo mundo\n"
     ]
    }
   ],
   "source": [
    "print(\"Alo mundo\")"
   ]
  },
  {
   "cell_type": "raw",
   "metadata": {},
   "source": [
    "2) Faça um Programa que peça um número e então mostre a mensagem O número informado foi [número]."
   ]
  },
  {
   "cell_type": "code",
   "execution_count": 2,
   "metadata": {},
   "outputs": [
    {
     "name": "stdout",
     "output_type": "stream",
     "text": [
      "Digite um número: 2\n",
      "O número informado foi  2\n"
     ]
    }
   ],
   "source": [
    "number = int(input(\"Digite um número: \"))\n",
    "print(\"O número informado foi \",number)"
   ]
  },
  {
   "cell_type": "raw",
   "metadata": {},
   "source": [
    "3) Faça um Programa que peça dois números e imprima a soma."
   ]
  },
  {
   "cell_type": "code",
   "execution_count": 3,
   "metadata": {},
   "outputs": [
    {
     "name": "stdout",
     "output_type": "stream",
     "text": [
      "Digite o 1º número: 2\n",
      "Digite o 2º número: 10\n",
      "A soma dos números é:  12\n"
     ]
    }
   ],
   "source": [
    "number1 = int(input(\"Digite o 1º número: \"))\n",
    "number2 = int(input(\"Digite o 2º número: \"))\n",
    "print(\"A soma dos números é: \", number1+number2)"
   ]
  },
  {
   "cell_type": "raw",
   "metadata": {},
   "source": [
    "4) Faça um Programa que peça as 4 notas bimestrais e mostre a média."
   ]
  },
  {
   "cell_type": "code",
   "execution_count": 10,
   "metadata": {},
   "outputs": [
    {
     "name": "stdout",
     "output_type": "stream",
     "text": [
      "Digite a 1ª nota:2.5\n",
      "Digite a 2ª nota:1\n",
      "Digite a 3ª nota:1\n",
      "Digite a 4ª nota:5.5\n",
      "A média é igual a 2.5\n"
     ]
    }
   ],
   "source": [
    "i = 0\n",
    "total = 0\n",
    "while i < 4:\n",
    "    total += float(input(f\"Digite a {i+1}ª nota:\"))\n",
    "    i+=1\n",
    "    \n",
    "print(f\"A média é igual a {total/4}\")"
   ]
  },
  {
   "cell_type": "raw",
   "metadata": {},
   "source": [
    "5) Faça um Programa que converta metros para centímetros."
   ]
  },
  {
   "cell_type": "code",
   "execution_count": 13,
   "metadata": {},
   "outputs": [
    {
     "name": "stdout",
     "output_type": "stream",
     "text": [
      "Digite os metros35\n",
      "3500cm\n"
     ]
    }
   ],
   "source": [
    "cm = float(input(\"Digite os metros: \"))*100\n",
    "print(f\"{int(cm)}cm\")"
   ]
  },
  {
   "cell_type": "raw",
   "metadata": {},
   "source": [
    "15) Faça um Programa que pergunte quanto você ganha por hora e o número de horas trabalhadas no mês. Calcule e mostre o total do seu salário no referido mês, sabendo-se que são descontados 11% para o Imposto de Renda, 8% para o INSS e 5% para o sindicato, faça um programa que nos dê:\n",
    "a) salário bruto.\n",
    "b) quanto pagou ao INSS.\n",
    "c) quanto pagou ao sindicato.\n",
    "d) o salário líquido.\n",
    "e) calcule os descontos e o salário líquido, conforme a tabela abaixo:\n",
    "\n",
    "+ Salário Bruto : R$\n",
    "- IR (11%) : R$\n",
    "- INSS (8%) : R$\n",
    "- Sindicato ( 5%) : R$\n",
    "= Salário Liquido : R$"
   ]
  },
  {
   "cell_type": "code",
   "execution_count": 17,
   "metadata": {},
   "outputs": [
    {
     "name": "stdout",
     "output_type": "stream",
     "text": [
      "Digite quanto você ganha por hora: 5\n",
      "Digite o número de horas trabalhadas no mês: 20\n",
      "+ Salário Bruto : R$ 100.0 \n",
      "- IR (11%) : R$ 11.0 \n",
      "- INSS (8%) : R$ 8.0 \n",
      "- Sindicato ( 5%) : R$ 5.0\n",
      "= Salário Liquido : R$ 76.0\n"
     ]
    }
   ],
   "source": [
    "def calculate(salaryPerHour, hoursPerMonth):\n",
    "    fullSalary = hoursPerMonth*salaryPerHour\n",
    "    ir = (fullSalary*11)/100\n",
    "    inss = (fullSalary*8)/100\n",
    "    sindicato = (fullSalary*5)/100\n",
    "    netSalary = fullSalary - (ir+inss+sindicato)\n",
    "    \n",
    "    print(f\"+ Salário Bruto : R$ {fullSalary} \\n- IR (11%) : R$ {ir} \\n- INSS (8%) : R$ {inss} \\n- Sindicato ( 5%) : R$ {sindicato}\\n= Salário Liquido : R$ {netSalary}\")\n",
    "    \n",
    "\n",
    "if __name__ == \"__main__\":\n",
    "    salaryPerHour = float(input(\"Digite quanto você ganha por hora: \"))\n",
    "    hoursPerMonth = float(input(\"Digite o número de horas trabalhadas no mês: \"))\n",
    "    calculate(salaryPerHour, hoursPerMonth)"
   ]
  },
  {
   "cell_type": "markdown",
   "metadata": {},
   "source": [
    "### Estrutura de decisão: https://wiki.python.org.br/EstruturaDeDecisao"
   ]
  },
  {
   "cell_type": "raw",
   "metadata": {},
   "source": [
    "1) Faça um Programa que peça dois números e imprima o maior deles"
   ]
  },
  {
   "cell_type": "code",
   "execution_count": 25,
   "metadata": {},
   "outputs": [
    {
     "name": "stdout",
     "output_type": "stream",
     "text": [
      "Digite um número: 21\n",
      "Digite outro número: 20\n",
      "21.0\n"
     ]
    }
   ],
   "source": [
    "n1 = float(input(\"Digite um número: \"))\n",
    "n2 = float(input(\"Digite outro número: \"))\n",
    "if n1>n2:\n",
    "    print(n1)\n",
    "    \n",
    "elif n2>n1:\n",
    "        print(n2)"
   ]
  },
  {
   "cell_type": "raw",
   "metadata": {},
   "source": [
    "3) Faça um Programa que verifique se uma letra digitada é \"F\" ou \"M\". Conforme a letra escrever: F - Feminino, M - Masculino, Sexo Inválido."
   ]
  },
  {
   "cell_type": "code",
   "execution_count": 29,
   "metadata": {},
   "outputs": [
    {
     "ename": "SyntaxError",
     "evalue": "invalid syntax (<ipython-input-29-f1e6e60cbddb>, line 3)",
     "output_type": "error",
     "traceback": [
      "\u001b[0;36m  File \u001b[0;32m\"<ipython-input-29-f1e6e60cbddb>\"\u001b[0;36m, line \u001b[0;32m3\u001b[0m\n\u001b[0;31m    match sex:\u001b[0m\n\u001b[0m          ^\u001b[0m\n\u001b[0;31mSyntaxError\u001b[0m\u001b[0;31m:\u001b[0m invalid syntax\n"
     ]
    }
   ],
   "source": [
    "# Se a versão do Python for a 3.10, a estrutura match - case funcionará\n",
    "sex = input(\"Digite um sexo: \")\n",
    "match sex:\n",
    "    case 'F':\n",
    "        print(\"Feminino\")\n",
    "        \n",
    "    case 'M':\n",
    "        print(\"Masculino\")\n",
    "        \n",
    "    case _:\n",
    "        print(\"Sexo inválido!\")"
   ]
  },
  {
   "cell_type": "raw",
   "metadata": {},
   "source": [
    "24) Faça um Programa que leia 2 números e em seguida pergunte ao usuário qual operação ele deseja realizar. O resultado da operação deve ser acompanhado de uma frase que diga se o número é:\n",
    "a) par ou ímpar;\n",
    "b) positivo ou negativo;\n",
    "c) inteiro ou decimal."
   ]
  },
  {
   "cell_type": "code",
   "execution_count": 56,
   "metadata": {},
   "outputs": [
    {
     "name": "stdout",
     "output_type": "stream",
     "text": [
      "Digite o 1º número: 8\n",
      "Digite o 2º número: 8\n",
      "Digite o símbolo da operação desejada: ^\n",
      "Resultado: 16777216.0 - par - positivo - inteiro\n"
     ]
    }
   ],
   "source": [
    "def is_integer(n):\n",
    "    try:\n",
    "        float(n)\n",
    "    except ValueError:\n",
    "        return False\n",
    "    else:\n",
    "        return float(n).is_integer()\n",
    "    \n",
    "n1 = float(input(\"Digite o 1º número: \"))\n",
    "n2 = float(input(\"Digite o 2º número: \"))\n",
    "op = input(\"Digite o símbolo da operação desejada: \")\n",
    "\n",
    "if op == \"+\":\n",
    "    result = n1 + n2\n",
    "\n",
    "elif op == \"-\":\n",
    "    result = n1 - n2\n",
    "\n",
    "elif op == \"*\":\n",
    "    result = n1 * n2\n",
    "\n",
    "elif op == \"/\":\n",
    "    result = n1 / n2\n",
    "\n",
    "elif op == \"^\":\n",
    "    result = n1 ** n2\n",
    "\n",
    "par = result % 2 == 0\n",
    "positive = result > 0\n",
    "typeOf = is_integer(result)\n",
    "\n",
    "if par:\n",
    "    par_impar = \"par\"\n",
    "else:\n",
    "    par_impar = \"ímpar\"\n",
    "\n",
    "if positive:\n",
    "    positive_negative = \"positivo\"    \n",
    "else:\n",
    "    positive_negative = \"negativo\"\n",
    "    \n",
    "if typeOf:\n",
    "    integer_decimal = \"inteiro\"\n",
    "else:\n",
    "    integer_decimal = \"decimal\"\n",
    "    \n",
    "if \"float\" in str(typeOf):\n",
    "    typeOf = \"decimal\"\n",
    "elif \"int\" in str(typeOf):\n",
    "    typeOf = \"inteiro\"\n",
    "\n",
    "print(f\"Resultado: {result} - {par_impar} - {positive_negative} - {integer_decimal}\")"
   ]
  },
  {
   "cell_type": "markdown",
   "metadata": {},
   "source": [
    "### Estrutura de repetição: https://wiki.python.org.br/EstruturaDeRepeticao"
   ]
  },
  {
   "cell_type": "raw",
   "metadata": {},
   "source": [
    "12) Desenvolva um gerador de tabuada, capaz de gerar a tabuada de qualquer número inteiro entre 1 a 10. O usuário deve informar de qual numero ele deseja ver a tabuada. A saída deve ser conforme o exemplo abaixo:"
   ]
  },
  {
   "cell_type": "code",
   "execution_count": 3,
   "metadata": {},
   "outputs": [
    {
     "name": "stdout",
     "output_type": "stream",
     "text": [
      "Digite um número para ver sua tabuada: 9\n",
      "9 x 0 = 0\n",
      "\n",
      "9 x 1 = 9\n",
      "\n",
      "9 x 2 = 18\n",
      "\n",
      "9 x 3 = 27\n",
      "\n",
      "9 x 4 = 36\n",
      "\n",
      "9 x 5 = 45\n",
      "\n",
      "9 x 6 = 54\n",
      "\n",
      "9 x 7 = 63\n",
      "\n",
      "9 x 8 = 72\n",
      "\n",
      "9 x 9 = 81\n",
      "\n"
     ]
    }
   ],
   "source": [
    "def generateTable(number):\n",
    "    i = 0\n",
    "    while i<10:\n",
    "        print(f\"{number} x {i} = {number*i}\\n\")\n",
    "        i += 1\n",
    "    \n",
    "if __name__ == \"__main__\":\n",
    "    number = int(input(\"Digite um número para ver sua tabuada: \"))\n",
    "    generateTable(number)"
   ]
  },
  {
   "cell_type": "markdown",
   "metadata": {},
   "source": [
    "### Listas: https://wiki.python.org.br/ExerciciosListas"
   ]
  },
  {
   "cell_type": "raw",
   "metadata": {},
   "source": [
    "1) Faça um Programa que leia um vetor de 5 números inteiros e mostre-os."
   ]
  },
  {
   "cell_type": "code",
   "execution_count": 5,
   "metadata": {},
   "outputs": [
    {
     "name": "stdout",
     "output_type": "stream",
     "text": [
      "Digite o 1º número: 1\n",
      "Digite o 2º número: 5\n",
      "Digite o 3º número: 2\n",
      "Digite o 4º número: 4\n",
      "Digite o 5º número: 3\n",
      "[1, 5, 2, 4, 3]\n"
     ]
    }
   ],
   "source": [
    "i = 0\n",
    "list = []\n",
    "while i < 5:\n",
    "    number = int(input(f\"Digite o {i+1}º número: \"))\n",
    "    list.append(number)\n",
    "    i += 1\n",
    "    \n",
    "print(list)    "
   ]
  },
  {
   "cell_type": "raw",
   "metadata": {},
   "source": [
    "2) Faça um Programa que leia um vetor de 10 números reais e mostre-os na ordem inversa."
   ]
  },
  {
   "cell_type": "code",
   "execution_count": 11,
   "metadata": {},
   "outputs": [
    {
     "name": "stdout",
     "output_type": "stream",
     "text": [
      "Digite o 1º número: 1\n",
      "Digite o 2º número: 2\n",
      "Digite o 3º número: 3\n",
      "Digite o 4º número: 4\n",
      "Digite o 5º número: 5\n",
      "Digite o 6º número: 6\n",
      "Digite o 7º número: 7\n",
      "Digite o 8º número: 8\n",
      "Digite o 9º número: 9\n",
      "Digite o 10º número: 10\n",
      "[10.0, 9.0, 8.0, 7.0, 6.0, 5.0, 4.0, 3.0, 2.0, 1.0]\n"
     ]
    }
   ],
   "source": [
    "i = 0\n",
    "list = []\n",
    "while i < 10:\n",
    "    number = float(input(f\"Digite o {i+1}º número: \"))\n",
    "    list.append(number)\n",
    "    i += 1\n",
    "    \n",
    "print(list[::-1])"
   ]
  },
  {
   "cell_type": "raw",
   "metadata": {},
   "source": [
    "19) \"Qual o melhor Sistema Operacional para uso em servidores?\"\n",
    "\n",
    "As possíveis respostas são:\n",
    "\n",
    "1- Windows Server\n",
    "2- Unix\n",
    "3- Linux\n",
    "4- Netware\n",
    "5- Mac OS\n",
    "6- Outro\n",
    "\n",
    "Você foi contratado para desenvolver um programa que leia o resultado da enquete e informe ao final o resultado da mesma. O programa deverá ler os valores até ser informado o valor 0, que encerra a entrada dos dados. Não deverão ser aceitos valores além dos válidos para o programa (0 a 6). Os valores referentes a cada uma das opções devem ser armazenados num vetor. Após os dados terem sido completamente informados, o programa deverá calcular a percentual de cada um dos concorrentes e informar o vencedor da enquete. O formato da saída foi dado pela empresa, e é o seguinte:\n",
    "\n",
    "Sistema Operacional     Votos   %\n",
    "-------------------     -----   ---\n",
    "Windows Server           1500   17%\n",
    "Unix                     3500   40%\n",
    "Linux                    3000   34%\n",
    "Netware                   500    5%\n",
    "Mac OS                    150    2%\n",
    "Outro                     150    2%\n",
    "-------------------     -----\n",
    "Total                    8800\n",
    "\n",
    "O Sistema Operacional mais votado foi o Unix, com 3500 votos, correspondendo a 40% dos votos."
   ]
  },
  {
   "cell_type": "code",
   "execution_count": 43,
   "metadata": {},
   "outputs": [
    {
     "name": "stdout",
     "output_type": "stream",
     "text": [
      "Qual o melhor Sistema Operacional para uso em servidores?\n",
      "\n",
      "\n",
      "1- Windows Server\n",
      "2- Unix\n",
      "3- Linux\n",
      "4- Netware\n",
      "5- Mac OS\n",
      "6- Outro\n",
      "1\n",
      "Qual o melhor Sistema Operacional para uso em servidores?\n",
      "\n",
      "\n",
      "1- Windows Server\n",
      "2- Unix\n",
      "3- Linux\n",
      "4- Netware\n",
      "5- Mac OS\n",
      "6- Outro\n",
      "1\n",
      "Qual o melhor Sistema Operacional para uso em servidores?\n",
      "\n",
      "\n",
      "1- Windows Server\n",
      "2- Unix\n",
      "3- Linux\n",
      "4- Netware\n",
      "5- Mac OS\n",
      "6- Outro\n",
      "2\n",
      "Qual o melhor Sistema Operacional para uso em servidores?\n",
      "\n",
      "\n",
      "1- Windows Server\n",
      "2- Unix\n",
      "3- Linux\n",
      "4- Netware\n",
      "5- Mac OS\n",
      "6- Outro\n",
      "0\n",
      "Sistema Operacional     Votos   %\n",
      "-------------------     -----   ---\n",
      " Windows           2   66.7%\n",
      " Unix           1   33.3%\n",
      " Outro           0   0.0%\n",
      " Mac           0   0.0%\n",
      " Netware           0   0.0%\n",
      " Linux           0   0.0%\n",
      "Total                    3\n",
      "-------------------     -----\n",
      "O Sistema Operacional mais votado foi o windows, com 2 votos, correspondendo a 66.7% dos votos.\n"
     ]
    }
   ],
   "source": [
    "choosen = {\n",
    "    \"windows\": 0,\n",
    "    \"unix\": 0,\n",
    "    \"linux\": 0,\n",
    "    \"netware\": 0,\n",
    "    \"mac\": 0,\n",
    "    \"outro\": 0\n",
    "}\n",
    "\n",
    "def get_so_per_vote(element):\n",
    "    return element['votes']\n",
    "    \n",
    "def calculate():\n",
    "    total = choosen[\"windows\"] + choosen[\"unix\"] + choosen[\"linux\"] + choosen[\"netware\"] + choosen[\"mac\"] + choosen [\"outro\"]\n",
    "    \n",
    "    prc_windows = '{:.1f}'.format((choosen[\"windows\"]*100) / total)\n",
    "    prc_unix = '{:.1f}'.format((choosen[\"unix\"]*100) / total)\n",
    "    prc_linux = '{:.1f}'.format((choosen[\"linux\"]*100) / total)\n",
    "    prc_netware = '{:.1f}'.format((choosen[\"netware\"]*100) / total)\n",
    "    prc_mac = '{:.1f}'.format((choosen[\"mac\"]*100) / total)\n",
    "    prc_outro = '{:.1f}'.format((choosen[\"outro\"]*100) / total)\n",
    "        \n",
    "    list_of_systems = [\n",
    "        {\n",
    "            \"so\": \"windows\",\n",
    "            \"votes\": choosen[\"windows\"],\n",
    "            \"pct\": prc_windows\n",
    "        },\n",
    "        \n",
    "        {\n",
    "            \"so\": \"unix\",\n",
    "            \"votes\": choosen[\"unix\"],\n",
    "            \"pct\": prc_unix\n",
    "        },\n",
    "        \n",
    "        {\n",
    "            \"so\": \"linux\",\n",
    "            \"votes\": choosen[\"linux\"],\n",
    "            \"pct\": prc_linux\n",
    "        },\n",
    "        \n",
    "        {\n",
    "            \"so\": \"netware\",\n",
    "            \"votes\": choosen[\"netware\"],\n",
    "            \"pct\": prc_netware\n",
    "        },\n",
    "        \n",
    "        {\n",
    "            \"so\": \"mac\",\n",
    "            \"votes\": choosen[\"mac\"],\n",
    "            \"pct\": prc_mac\n",
    "        },\n",
    "        \n",
    "        {\n",
    "            \"so\": \"outro\",\n",
    "            \"votes\": choosen[\"outro\"],\n",
    "            \"pct\": prc_outro\n",
    "        }\n",
    "    ]\n",
    "    \n",
    "    list_of_systems.sort(key = get_so_per_vote)\n",
    "    \n",
    "    showResult(list_of_systems[::-1])\n",
    "    \n",
    "def showResult(list_of_systems):\n",
    "    print(\"Sistema Operacional     Votos   %\")\n",
    "    print(\"-------------------     -----   ---\")\n",
    "    total = 0\n",
    "    \n",
    "    all_so = list(map(lambda x : x['so'], list_of_systems))\n",
    "    all_votes = list(map(lambda x : x['votes'], list_of_systems))\n",
    "    all_pct = list(map(lambda x : x['pct'], list_of_systems))\n",
    "    \n",
    "    for system in list_of_systems:\n",
    "        total += system[\"votes\"]\n",
    "        print(f\" {system['so'].capitalize()}           {system['votes']}   {system['pct']}%\")\n",
    "        \n",
    "    print(f\"Total                    {total}\")\n",
    "    print(\"-------------------     -----\")\n",
    "    print(f\"O Sistema Operacional mais votado foi o {all_so[0]}, com {all_votes[0]} votos, correspondendo a {all_pct[0]}% dos votos.\")\n",
    "    \n",
    "\n",
    "def getOption():\n",
    "    while True:\n",
    "        print(\"Qual o melhor Sistema Operacional para uso em servidores?\\n\\n\")\n",
    "        print(\"\"\"1- Windows Server\n",
    "2- Unix\n",
    "3- Linux\n",
    "4- Netware\n",
    "5- Mac OS\n",
    "6- Outro\"\"\")\n",
    "\n",
    "        option = int(input())\n",
    "\n",
    "        if option == 0:\n",
    "            calculate()\n",
    "            break\n",
    "\n",
    "        elif option < 1 or option > 6:\n",
    "            print(\"Opção inválida!\")\n",
    "\n",
    "        elif option == 1:\n",
    "            choosen[\"windows\"] += 1\n",
    "\n",
    "        elif option == 2:\n",
    "            choosen[\"unix\"] += 1\n",
    "\n",
    "        elif option == 3:\n",
    "            choosen[\"linux\"] += 1\n",
    "\n",
    "        elif option == 4:\n",
    "            choosen[\"netware\"] += 1\n",
    "\n",
    "        elif option == 5:\n",
    "            choosen[\"mac\"] += 1\n",
    "\n",
    "        elif option == 6:\n",
    "            choosen[\"outro\"] += 1\n",
    "        \n",
    "\n",
    "if __name__ == \"__main__\":\n",
    "    getOption()"
   ]
  }
 ],
 "metadata": {
  "kernelspec": {
   "display_name": "Python 3",
   "language": "python",
   "name": "python3"
  },
  "language_info": {
   "codemirror_mode": {
    "name": "ipython",
    "version": 3
   },
   "file_extension": ".py",
   "mimetype": "text/x-python",
   "name": "python",
   "nbconvert_exporter": "python",
   "pygments_lexer": "ipython3",
   "version": "3.8.10"
  }
 },
 "nbformat": 4,
 "nbformat_minor": 4
}
