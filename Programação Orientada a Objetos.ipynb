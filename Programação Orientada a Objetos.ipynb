{
 "cells": [
  {
   "cell_type": "markdown",
   "metadata": {},
   "source": [
    "## Instruções básicas"
   ]
  },
  {
   "cell_type": "code",
   "execution_count": 12,
   "metadata": {},
   "outputs": [
    {
     "name": "stdout",
     "output_type": "stream",
     "text": [
      "- Passar roupa - criado às 2023-08-13 14:18:32.594053\n",
      "- Lavar prato (feito) - criado às 2023-08-13 14:18:32.594058\n"
     ]
    }
   ],
   "source": [
    "#!/usr/bin/python3\n",
    "from datetime import datetime\n",
    "\n",
    "class Task():\n",
    "    \n",
    "    # Todo método de uma classe possui o parâmetro self em primeiro\n",
    "    # O self representa o próprio objeto que chamou o método\n",
    "    def __init__(self, descricao):\n",
    "        self.descricao = descricao\n",
    "        self.feito = False\n",
    "        self.criacao = datetime.now()\n",
    "        \n",
    "    def done(self):\n",
    "        self.feito = True\n",
    "        \n",
    "    # Toda classe possui os métodos init e str, o str sempre servirá para exibir informações do objeto\n",
    "    def __str__(self):\n",
    "        return f\"{self.descricao}\" + (\" (feito)\" if self.feito else \"\") + f\" - criado às {self.criacao}\"\n",
    "    \n",
    "def main():\n",
    "    casa = []\n",
    "    casa.append(Task(\"Passar roupa\"))\n",
    "    casa.append(Task(\"Lavar prato\"))\n",
    "    \n",
    "    # Faz um for e chama o método done caso a descrição seja \"lavar prato\"\n",
    "    [task.done() for task in casa if task.descricao == \"Lavar prato\"]\n",
    "    \n",
    "    for task in casa:\n",
    "        print(f\"- {task}\")\n",
    "              \n",
    "if __name__ == \"__main__\":\n",
    "    main()"
   ]
  },
  {
   "cell_type": "markdown",
   "metadata": {},
   "source": [
    "### Instanciando objetos e tratando exceções"
   ]
  },
  {
   "cell_type": "code",
   "execution_count": 21,
   "metadata": {},
   "outputs": [
    {
     "name": "stdout",
     "output_type": "stream",
     "text": [
      "Casa (1 tarefas pendentes)\n",
      "- Passar roupa - criado às 2023-08-13 14:26:35.036525\n",
      "- Lavar prato (feito) - criado às 2023-08-13 14:26:35.036530\n",
      "Compras no mercado (2 tarefas pendentes)\n",
      "- Frutas secas - criado às 2023-08-13 14:26:35.036532\n",
      "- Carne (feito) - criado às 2023-08-13 14:26:35.036532\n",
      "- Tomate - criado às 2023-08-13 14:26:35.036533\n",
      "Erro encontrado: list index out of range\n",
      "Esse bloco sempre será executado\n"
     ]
    }
   ],
   "source": [
    "class TarefaNaoEncontrada(Exception):\n",
    "    pass\n",
    "\n",
    "class Project:\n",
    "    def __init__(self, nome):\n",
    "        self.nome = nome\n",
    "        self.tasks = []\n",
    "        \n",
    "    def add(self, descricao):\n",
    "        self.tasks.append(Task(descricao))\n",
    "        \n",
    "    def pendentes(self):\n",
    "        return [task for task in self.tasks if not task.feito]\n",
    "    \n",
    "    def find(self, descricao):\n",
    "        try:\n",
    "            # Possível IndexEror\n",
    "            return [task for task in self.tasks if task.descricao == descricao][0]\n",
    "        \n",
    "        # Captura todos os tipos de erro que possam dar\n",
    "        except Exception as e:\n",
    "            raise TarefaNaoEncontrada(str(e))\n",
    "    \n",
    "    def __str__(self):\n",
    "        return f\"{self.nome} ({len(self.pendentes())} tarefas pendentes)\"\n",
    "    \n",
    "def main():\n",
    "    casa = Project(\"Casa\")\n",
    "    casa.add(\"Passar roupa\")\n",
    "    casa.add(\"Lavar prato\")\n",
    "    \n",
    "    mercado = Project(\"Compras no mercado\")\n",
    "    mercado.add(\"Frutas secas\")\n",
    "    mercado.add(\"Carne\")\n",
    "    mercado.add(\"Tomate\")\n",
    "    \n",
    "    casa.find(\"Lavar prato\").done()\n",
    "    mercado.find(\"Carne\").done()\n",
    "    print(casa)\n",
    "    for task in casa.tasks:\n",
    "        print(f\"- {task}\")\n",
    "        \n",
    "    print(mercado)\n",
    "    for task in mercado.tasks:\n",
    "        print(f\"- {task}\")\n",
    "        \n",
    "    # Verifica se haverá algum erro ao localizar a tarefa\n",
    "    try:\n",
    "        casa.find(\"Lavar prato - ERRO\").done()\n",
    "    except TarefaNaoEncontrada as e:\n",
    "        print(f\"Erro encontrado: {str(e)}\")\n",
    "    finally:\n",
    "        print(\"Esse bloco sempre será executado\")\n",
    "        \n",
    "        \n",
    "if __name__ == \"__main__\":\n",
    "    main()"
   ]
  },
  {
   "cell_type": "markdown",
   "metadata": {},
   "source": [
    "### Retornando uma lista de elementos armazenada em um atributo"
   ]
  },
  {
   "cell_type": "code",
   "execution_count": 4,
   "metadata": {},
   "outputs": [
    {
     "name": "stdout",
     "output_type": "stream",
     "text": [
      "Tarefa 1\n",
      "Tarefa 2\n",
      "Tarefa 3\n",
      "Tarefa 4\n",
      "Tarefa 5\n",
      "Tarefa 6\n",
      "Tarefa 7\n",
      "Tarefa 8\n",
      "Tarefa 9\n",
      "Tarefa 10\n"
     ]
    }
   ],
   "source": [
    "class Projeto:\n",
    "    def __init__(self):\n",
    "        self.tasks = []\n",
    "        \n",
    "    def add(self, task):\n",
    "        self.tasks.append(task)\n",
    "        \n",
    "    def __iter__(self):\n",
    "        return self.tasks.__iter__()\n",
    "    \n",
    "if __name__ == \"__main__\":\n",
    "    projeto = Projeto()\n",
    "    \n",
    "    for i in range(0, 10):\n",
    "        projeto.add(f\"Tarefa {i+1}\")\n",
    "        \n",
    "    for task in projeto:\n",
    "        # Ao chamar o objeto dentro do for, ele já retorna o elemento dentro de sua lista\n",
    "        # Não precisa acessar o atributo que armazena a lista\n",
    "        print(task)"
   ]
  },
  {
   "cell_type": "markdown",
   "metadata": {},
   "source": [
    "### Herança"
   ]
  },
  {
   "cell_type": "code",
   "execution_count": 6,
   "metadata": {},
   "outputs": [
    {
     "name": "stdout",
     "output_type": "stream",
     "text": [
      "Nome: Hulk - Idade: 34 - Nº de títulos: 8\n",
      "Nome: Roger Fedderer - Idade: 31 - Nº de títulos: 12\n",
      "Nome: Rafael Nadal - Idade: 33 - Nº de títulos: 11\n"
     ]
    }
   ],
   "source": [
    "class Athlete():\n",
    "    def __init__(self, name, age, titles):\n",
    "        self.name = name\n",
    "        self.age = age\n",
    "        self.titles = titles\n",
    "        \n",
    "    def __str__(self):\n",
    "        return f\"Nome: {self.name} - Idade: {self.age} - Nº de títulos: {self.titles}\"\n",
    "    \n",
    "class Football(Athlete):\n",
    "    def __init__(self, name, age, titles, current_team):\n",
    "        super().__init__(name, age, titles)\n",
    "        self.current_team = current_team\n",
    "        \n",
    "class Tennis(Athlete):\n",
    "    def __init__(self, name, age, titles, olympics):\n",
    "        super().__init__(name, age, titles)\n",
    "        self.olympics = olympics\n",
    "        \n",
    "        \n",
    "if __name__ == \"__main__\":\n",
    "    hulk = Football(\"Hulk\", 34, 8, \"Galo\")\n",
    "    federer = Tennis(\"Roger Fedderer\", 31, 12, 4)\n",
    "    nadal = Tennis(\"Rafael Nadal\", 33, 11, 3)\n",
    "    \n",
    "    print(hulk)\n",
    "    print(federer)\n",
    "    print(nadal)"
   ]
  },
  {
   "cell_type": "markdown",
   "metadata": {},
   "source": [
    "### Sobrecarga de métodos e métodos privados"
   ]
  },
  {
   "cell_type": "raw",
   "metadata": {},
   "source": [
    "No Python não há uma forma regulamentadora de se implementar esses conceitos. Porém para métodos privados é de costume inicializar métodos privados com underline, como forma de identificá-lo, e para sobrecarga é possível passar o parâmetro **kwargs para receber parâmetros dinâmicos"
   ]
  },
  {
   "cell_type": "code",
   "execution_count": 10,
   "metadata": {},
   "outputs": [
    {
     "name": "stdout",
     "output_type": "stream",
     "text": [
      "Tarefas iniciais:\n",
      "Escovar os dentes\n",
      "Fazer café\n",
      "Prazo inalterado\n",
      "30 minutos\n"
     ]
    }
   ],
   "source": [
    "class Tarefa():\n",
    "    atividades = []\n",
    "    \n",
    "    def __init__(self, atividades, prazo):\n",
    "        self.prazo = prazo\n",
    "        for act in atividades:\n",
    "            self._addAtividade(act)\n",
    "            \n",
    "    def __iter__(self):\n",
    "        return self.atividades.__iter__()\n",
    "    \n",
    "    # Convenção para método privado\n",
    "    def _addAtividade(self, atividade):\n",
    "        self.atividades.append(atividade)\n",
    "        \n",
    "    # Recebe os parâmetros do addTarefa, podendo receber quaisquer outros também\n",
    "    def addNovaAtividade(self, atividade, **kwargs):\n",
    "        self.atividades.append(atividade)\n",
    "        \n",
    "        # Se o usuário passar um parâmetro chamado \"prazo\"\n",
    "        if(kwargs.get(\"prazo\") is not None):\n",
    "            self.prazo = kwargs.get(\"prazo\")\n",
    "            print(\"Prazo alterado com sucesso!\")\n",
    "            \n",
    "        else:\n",
    "            print(\"Prazo inalterado\")\n",
    "        \n",
    "        \n",
    "if __name__ == \"__main__\":\n",
    "    tarefasIniciais = [\"Escovar os dentes\", \"Fazer café\"]\n",
    "    tarefa1 = Tarefa(tarefasIniciais, \"30 minutos\")\n",
    "    \n",
    "    print(\"Tarefas iniciais:\")\n",
    "    for act in tarefa1:\n",
    "        print(act)\n",
    "        \n",
    "    tarefa1.addNovaAtividade(\"Comprar pão\", prazo=\"1 dia\")\n",
    "    \n",
    "    print(tarefa1.prazo)"
   ]
  },
  {
   "cell_type": "markdown",
   "metadata": {},
   "source": [
    "### Atributos e métodos de classe e de instância"
   ]
  },
  {
   "cell_type": "code",
   "execution_count": 8,
   "metadata": {},
   "outputs": [
    {
     "name": "stdout",
     "output_type": "stream",
     "text": [
      "Humano: Homo sapiens\n",
      "Neandertal: homo neanderthalensis\n",
      "Humano geneticamente alterado: Teste testandis\n",
      "Evolução (a partir da classe): Australopiteco, Homo Habilis, Homo Erectus, Homo Neanderthalensis, Homo Sapiens\n",
      "Evolução (a partir da instância): Australopiteco, Homo Habilis, Homo Erectus, Homo Neanderthalensis, Homo Sapiens\n",
      "Homo Sapiens é evoluído? True\n",
      "Neanderthal é evoluído? False\n",
      "José é evoluído? True\n",
      "Grokin é evoluído? False\n"
     ]
    }
   ],
   "source": [
    "class Humano:\n",
    "    # Atributos de classe SEMPRE são definidos dentro da classe\n",
    "    especie = \"Homo sapiens\"\n",
    "    \n",
    "    def __init__(self, nome):\n",
    "        self.nome = nome\n",
    "        \n",
    "    # Definição de um método de instância\n",
    "    def das_cavernas(self):\n",
    "        # Alterando atributo de instância com self\n",
    "        self.especie = \"homo neanderthalensis\"\n",
    "        return self\n",
    "    \n",
    "    \n",
    "    # Definição de um método estático\n",
    "    @staticmethod\n",
    "    def especies():\n",
    "        adjetivos = (\"Habilis\", \"Erectus\", \"Neanderthalensis\", \"Sapiens\")\n",
    "        return (\"Australopiteco\",) + tuple(f'Homo {adj}' for adj in adjetivos)\n",
    "    \n",
    "    \n",
    "    # Definição de um método de classe \n",
    "    @classmethod\n",
    "    def is_evoluido(cls):\n",
    "        \n",
    "        # Só é evoluído se terminar com \"Sapiens\"\n",
    "        return cls.especie == cls.especies()[-1]\n",
    "    \n",
    "    \n",
    "class Neanderthal(Humano):\n",
    "    especie = Humano.especies()[-2]\n",
    "    \n",
    "\n",
    "class HomoSapiens(Humano):\n",
    "    especie = Humano.especies()[-1]\n",
    "    \n",
    "        \n",
    "if __name__ == \"__main__\":\n",
    "    jose = HomoSapiens(\"José\")\n",
    "    grokin = Neanderthal(\"Grokin\").das_cavernas()\n",
    "    \n",
    "    print(f\"Humano: {Humano.especie}\")\n",
    "    print(f\"Neandertal: {grokin.especie}\")\n",
    "    \n",
    "    Humano.especie = \"Teste testandis\"\n",
    "    print(f\"Humano geneticamente alterado: {Humano.especie}\")\n",
    "    \n",
    "    print(f'Evolução (a partir da classe): {\", \".join(HomoSapiens.especies())}')\n",
    "    print(f'Evolução (a partir da instância): {\", \".join(jose.especies())}')\n",
    "    \n",
    "    print(f\"Homo Sapiens é evoluído? {HomoSapiens.is_evoluido()}\")\n",
    "    print(f\"Neanderthal é evoluído? {Neanderthal.is_evoluido()}\")\n",
    "    \n",
    "    print(f\"José é evoluído? {jose.is_evoluido()}\")\n",
    "    print(f\"Grokin é evoluído? {grokin.is_evoluido()}\")"
   ]
  },
  {
   "cell_type": "markdown",
   "metadata": {},
   "source": [
    "### Getters e setters"
   ]
  },
  {
   "cell_type": "code",
   "execution_count": 10,
   "metadata": {},
   "outputs": [
    {
     "name": "stdout",
     "output_type": "stream",
     "text": [
      "26\n"
     ]
    }
   ],
   "source": [
    "class Pessoa():\n",
    "    def __init__(self, nome, idade):\n",
    "        self._nome = nome\n",
    "        self._idade = idade\n",
    "        \n",
    "    @property\n",
    "    def idade(self):\n",
    "        return self._idade\n",
    "    \n",
    "    @idade.setter\n",
    "    def idade(self, idade):\n",
    "        if (idade <= 0):\n",
    "            raise ValueError(\"Idade deve ser um número positivo\")\n",
    "            \n",
    "        self._idade = idade\n",
    "        \n",
    "    @property\n",
    "    def nome(self):\n",
    "        return self._nome\n",
    "    \n",
    "    @nome.setter\n",
    "    def nome(self, nome):            \n",
    "        self._nome = nome\n",
    "        \n",
    "    \n",
    "    def __str__(self):\n",
    "        return f\"Nome: {self.nome} - Idade: {self.idade}\"\n",
    "    \n",
    "    \n",
    "if __name__ == '__main__':\n",
    "    guilherme = Pessoa(\"Guilherme\", 25)\n",
    "    \n",
    "    guilherme.idade = 26\n",
    "    \n",
    "    print(guilherme.idade)"
   ]
  },
  {
   "cell_type": "markdown",
   "metadata": {},
   "source": [
    "### Classes abstratas"
   ]
  },
  {
   "cell_type": "code",
   "execution_count": 29,
   "metadata": {},
   "outputs": [
    {
     "name": "stdout",
     "output_type": "stream",
     "text": [
      "Nadar\n",
      "Andar\n",
      "Voar\n"
     ]
    }
   ],
   "source": [
    "class Animal():\n",
    "    def __init__(self, peso):\n",
    "        self.peso = peso\n",
    "        \n",
    "    @property\n",
    "    def locomocao(self):\n",
    "        raise NotImplementedError(\"Propriedade não implementada\")\n",
    "        \n",
    "        \n",
    "class Homem(Animal):\n",
    "    @property\n",
    "    def locomocao(self):\n",
    "        return \"Andar\"\n",
    "    \n",
    "\n",
    "class Peixe(Animal):\n",
    "    def __init__(self, peso):\n",
    "        super().__init__(peso)\n",
    "        \n",
    "    @property\n",
    "    def locomocao(self):\n",
    "        return \"Nadar\"\n",
    "    \n",
    "    \n",
    "class Passaro(Animal):\n",
    "    @property\n",
    "    def locomocao(self):\n",
    "        return \"Voar\"\n",
    "    \n",
    "    \n",
    "if __name__ == '__main__':\n",
    "    \n",
    "        \n",
    "    # Erro por instanciar uma classe abstrata\n",
    "    # nero = Animal(20)\n",
    "    \n",
    "    nero = Peixe(0.1)\n",
    "    guilherme = Homem(64)\n",
    "    louro_jose = Passaro(0.9)\n",
    "    \n",
    "    print(nero.locomocao)\n",
    "    print(guilherme.locomocao)\n",
    "    print(louro_jose.locomocao)"
   ]
  },
  {
   "cell_type": "markdown",
   "metadata": {},
   "source": [
    "### Herança múltipla"
   ]
  },
  {
   "cell_type": "code",
   "execution_count": 36,
   "metadata": {},
   "outputs": [
    {
     "name": "stdout",
     "output_type": "stream",
     "text": [
      "('Andar', 'Dormir', 'Comer', 'Falar', 'Se comunicar', 'Lançar teia', 'Escalar', 'Bater em bandido', 'Ser traído pela Mary Jane')\n"
     ]
    }
   ],
   "source": [
    "class Animal():        \n",
    "    @property\n",
    "    def capacidades(self):\n",
    "        return (\"Andar\", \"Dormir\", \"Comer\")\n",
    "        \n",
    "        \n",
    "class Pessoa(Animal):\n",
    "    @property\n",
    "    def capacidades(self):\n",
    "        return super().capacidades + (\"Falar\", \"Se comunicar\")\n",
    "    \n",
    "\n",
    "class Aranha(Animal):\n",
    "    @property\n",
    "    def capacidades(self):\n",
    "        return super().capacidades + (\"Lançar teia\", \"Escalar\")\n",
    "    \n",
    "class SpiderMan(Aranha, Pessoa):\n",
    "    @property\n",
    "    def capacidades(self):\n",
    "        return super().capacidades + (\"Bater em bandido\", \"Ser traído pela Mary Jane\")\n",
    "    \n",
    "    \n",
    "if __name__ == \"__main__\":\n",
    "    peter = SpiderMan()\n",
    "    print(peter.capacidades)"
   ]
  }
 ],
 "metadata": {
  "kernelspec": {
   "display_name": "Python 3",
   "language": "python",
   "name": "python3"
  },
  "language_info": {
   "codemirror_mode": {
    "name": "ipython",
    "version": 3
   },
   "file_extension": ".py",
   "mimetype": "text/x-python",
   "name": "python",
   "nbconvert_exporter": "python",
   "pygments_lexer": "ipython3",
   "version": "3.8.10"
  }
 },
 "nbformat": 4,
 "nbformat_minor": 4
}
