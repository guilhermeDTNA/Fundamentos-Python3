{
 "cells": [
  {
   "cell_type": "code",
   "execution_count": 10,
   "metadata": {},
   "outputs": [
    {
     "name": "stdout",
     "output_type": "stream",
     "text": [
      "Aumentou 8km/h - Velocidade atual: 8\n",
      "Aumentou 8km/h - Velocidade atual: 16\n",
      "Aumentou 8km/h - Velocidade atual: 24\n",
      "Aumentou 8km/h - Velocidade atual: 32\n",
      "Aumentou 8km/h - Velocidade atual: 40\n",
      "Aumentou 8km/h - Velocidade atual: 48\n",
      "Aumentou 8km/h - Velocidade atual: 56\n",
      "Aumentou 8km/h - Velocidade atual: 64\n",
      "Aumentou 8km/h - Velocidade atual: 72\n",
      "Aumentou 8km/h - Velocidade atual: 80\n",
      "Aumentou 8km/h - Velocidade atual: 88\n",
      "Aumentou 8km/h - Velocidade atual: 96\n",
      "Aumentou 8km/h - Velocidade atual: 104\n",
      "Aumentou 8km/h - Velocidade atual: 112\n",
      "Aumentou 8km/h - Velocidade atual: 120\n",
      "Aumentou 8km/h - Velocidade atual: 120\n",
      "Aumentou 8km/h - Velocidade atual: 120\n",
      "Aumentou 8km/h - Velocidade atual: 120\n",
      "Aumentou 8km/h - Velocidade atual: 120\n",
      "Aumentou 8km/h - Velocidade atual: 120\n",
      "Aumentou 8km/h - Velocidade atual: 120\n",
      "Aumentou 8km/h - Velocidade atual: 120\n",
      "Aumentou 8km/h - Velocidade atual: 120\n",
      "Aumentou 8km/h - Velocidade atual: 120\n",
      "Aumentou 8km/h - Velocidade atual: 120\n",
      "Reduziu 20km/h - Velocidade atual: 100\n",
      "Reduziu 20km/h - Velocidade atual: 80\n",
      "Reduziu 20km/h - Velocidade atual: 60\n",
      "Reduziu 20km/h - Velocidade atual: 40\n",
      "Reduziu 20km/h - Velocidade atual: 20\n",
      "Reduziu 20km/h - Velocidade atual: 0\n",
      "Reduziu 20km/h - Velocidade atual: 0\n",
      "Reduziu 20km/h - Velocidade atual: 0\n",
      "Reduziu 20km/h - Velocidade atual: 0\n",
      "Reduziu 20km/h - Velocidade atual: 0\n"
     ]
    }
   ],
   "source": [
    "class Carro():\n",
    "    def __init__(self, max_speed):\n",
    "        self.max_speed = max_speed\n",
    "        self.current_speed = 0\n",
    "            \n",
    "    def acelerar(self, speed):\n",
    "        new_speed = self.current_speed + speed\n",
    "        if new_speed < self.max_speed:\n",
    "            self.current_speed = new_speed\n",
    "            \n",
    "        else:\n",
    "            self.current_speed = self.max_speed\n",
    "            \n",
    "        return f\"Aumentou {speed}km/h - Velocidade atual: {self.current_speed}\"\n",
    "            \n",
    "    \n",
    "    def frear(self, speed):\n",
    "        new_speed = self.current_speed - speed\n",
    "        if new_speed <= 0:\n",
    "            self.current_speed = 0\n",
    "            \n",
    "        else:\n",
    "            self.current_speed = new_speed\n",
    "            \n",
    "        return f\"Reduziu {speed}km/h - Velocidade atual: {self.current_speed}\"\n",
    "        \n",
    "\n",
    "if __name__ == '__main__':\n",
    "    c1 = Carro(120)\n",
    "    \n",
    "    for _ in range(25):\n",
    "        print(c1.acelerar(8))\n",
    "        \n",
    "    for _ in range(10):\n",
    "        print(c1.frear(speed=20))"
   ]
  }
 ],
 "metadata": {
  "kernelspec": {
   "display_name": "Python 3",
   "language": "python",
   "name": "python3"
  },
  "language_info": {
   "codemirror_mode": {
    "name": "ipython",
    "version": 3
   },
   "file_extension": ".py",
   "mimetype": "text/x-python",
   "name": "python",
   "nbconvert_exporter": "python",
   "pygments_lexer": "ipython3",
   "version": "3.8.10"
  }
 },
 "nbformat": 4,
 "nbformat_minor": 4
}
