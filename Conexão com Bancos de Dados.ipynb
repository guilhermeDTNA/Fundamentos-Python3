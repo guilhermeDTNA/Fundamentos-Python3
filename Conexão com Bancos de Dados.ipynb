{
 "cells": [
  {
   "cell_type": "markdown",
   "metadata": {},
   "source": [
    "### SQLite"
   ]
  },
  {
   "cell_type": "code",
   "execution_count": 1,
   "metadata": {},
   "outputs": [
    {
     "name": "stdout",
     "output_type": "stream",
     "text": [
      "(None, 'Guilherme', 25)\n",
      "(None, 'Sandra', 21)\n",
      "(None, 'Augusto', 30)\n",
      "Aluno alterado com sucesso!\n",
      "(None, 'Guilherme', 25)\n",
      "(None, 'Sandra', 21)\n",
      "(None, 'Augusto', 30)\n",
      "(None, 'Guilherme', 25)\n",
      "(None, 'Sandra', 21)\n",
      "(None, 'Augusto', 30)\n"
     ]
    }
   ],
   "source": [
    "import sqlite3\n",
    "connection = sqlite3.connect(\"banco.db\")\n",
    "\n",
    "def createTable():\n",
    "    connection.execute('''DROP TABLE IF EXISTS aluno;''')\n",
    "    connection.execute('''CREATE TABLE aluno (id INT AUTO_INCREMENT, nome VARCHAR(30), idade INT, PRIMARY KEY(id));''')\n",
    "\n",
    "def insertStudents():\n",
    "    connection.execute('''INSERT INTO aluno (nome, idade) VALUES (\"Guilherme\", 25), (\"Sandra\", 21), (\"Augusto\", 30);''')\n",
    "    connection.commit()\n",
    "    \n",
    "def showTable():\n",
    "    students = connection.execute(\"SELECT * FROM aluno;\")\n",
    "    return students\n",
    "    \n",
    "def deleteStudent(idStudent):\n",
    "    connection.execute(\"DELETE FROM aluno WHERE id = ?;\", (str(idStudent)))\n",
    "    showTable()\n",
    "    \n",
    "def createStudent(name, age):\n",
    "    connection.execute('''\n",
    "        INSERT INTO aluno (nome, idade) VALUES (?, ?)\n",
    "    ''', (name, age))\n",
    "    connection.commit()\n",
    "    \n",
    "def findStudent(idStudent):\n",
    "    student = connection.execute('''SELECT * FROM aluno WHERE id = ?''', (str(idStudent)))\n",
    "    return student\n",
    "\n",
    "def updateStudent(idStudent, **kwargs):\n",
    "    new_name = kwargs.get(\"name\")\n",
    "    new_age = kwargs.get(\"age\")\n",
    "    \n",
    "    students = findStudent(idStudent) \n",
    "    for student in students:\n",
    "        if new_name is None:\n",
    "            new_name = student[1]\n",
    "            \n",
    "        if new_age is None:\n",
    "            new_age = student[2]\n",
    "                    \n",
    "    connection.execute('''UPDATE aluno SET nome = ?, idade = ? WHERE id = ?''', (new_name, new_age, idStudent))\n",
    "    connection.commit()\n",
    "    print(\"Aluno alterado com sucesso!\")\n",
    "\n",
    "if __name__ == \"__main__\":\n",
    "    createTable()\n",
    "    insertStudents()\n",
    "    \n",
    "    students = showTable()\n",
    "    for student in students:\n",
    "        print(student)\n",
    "        \n",
    "    updateStudent(1, age = 45)\n",
    "    \n",
    "    new_students = showTable()\n",
    "    for student in new_students:\n",
    "        print(student)\n",
    "        \n",
    "    deleteStudent(1)\n",
    "    \n",
    "    new_students = showTable()\n",
    "    for student in new_students:\n",
    "        print(student)\n",
    "    "
   ]
  },
  {
   "cell_type": "markdown",
   "metadata": {},
   "source": [
    "### MySQL"
   ]
  },
  {
   "cell_type": "code",
   "execution_count": 45,
   "metadata": {},
   "outputs": [
    {
     "name": "stdout",
     "output_type": "stream",
     "text": [
      "[(1, 'Guilherme', 25), (2, 'Ayrton', 34), (3, 'Ayrton', 34), (4, 'Teste', 34), (5, 'Teste 1', 24), (6, 'Teste 2', 24), (9, 'Teste 3', 24), (10, 'Teste 3', 24)]\n"
     ]
    }
   ],
   "source": [
    "# Necessário instalar o pacote do mysql com o comando: pip install mysql-connector-python\n",
    "\n",
    "#!/usr/bin/python3\n",
    "import mysql.connector\n",
    "from mysql.connector import Error\n",
    "\n",
    "try:\n",
    "    \n",
    "    con = mysql.connector.connect(host='localhost', database='teste', user='root', password='teste123')\n",
    "    cursor = con.cursor()\n",
    "    \n",
    "    def showStudents():\n",
    "        cursor.execute(\"SELECT * FROM Aluno\")\n",
    "        print(cursor.fetchall()) \n",
    "\n",
    "    def insertStudent(name, age):        \n",
    "        # Lembrar de inserir as aspas dentro do comando SQL para strings!\n",
    "        sql = 'INSERT INTO Aluno (nome, idade) VALUES (\"{}\", {});'.format(name, str(age))\n",
    "        cursor.execute(sql)\n",
    "        con.commit()\n",
    "\n",
    "    if con.is_connected():\n",
    "        insertStudent(\"Teste 3\", 24)\n",
    "        showStudents()\n",
    "        \n",
    "\n",
    "except Error as erro:\n",
    "    print(erro)\n",
    "    \n",
    "finally:\n",
    "    if con.is_connected():\n",
    "        con.close()"
   ]
  }
 ],
 "metadata": {
  "kernelspec": {
   "display_name": "Python 3",
   "language": "python",
   "name": "python3"
  },
  "language_info": {
   "codemirror_mode": {
    "name": "ipython",
    "version": 3
   },
   "file_extension": ".py",
   "mimetype": "text/x-python",
   "name": "python",
   "nbconvert_exporter": "python",
   "pygments_lexer": "ipython3",
   "version": "3.8.10"
  }
 },
 "nbformat": 4,
 "nbformat_minor": 4
}
